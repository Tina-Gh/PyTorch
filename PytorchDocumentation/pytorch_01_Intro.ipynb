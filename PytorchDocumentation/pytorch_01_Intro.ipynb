{
  "nbformat": 4,
  "nbformat_minor": 0,
  "metadata": {
    "colab": {
      "provenance": [],
      "gpuType": "T4",
      "authorship_tag": "ABX9TyN/at5Wo/KdXKYE682C9qST",
      "include_colab_link": true
    },
    "kernelspec": {
      "name": "python3",
      "display_name": "Python 3"
    },
    "language_info": {
      "name": "python"
    },
    "accelerator": "GPU"
  },
  "cells": [
    {
      "cell_type": "markdown",
      "metadata": {
        "id": "view-in-github",
        "colab_type": "text"
      },
      "source": [
        "<a href=\"https://colab.research.google.com/github/Tina-Gh/PyTorch/blob/main/PytorchDocumentation/pytorch_01_Intro.ipynb\" target=\"_parent\"><img src=\"https://colab.research.google.com/assets/colab-badge.svg\" alt=\"Open In Colab\"/></a>"
      ]
    },
    {
      "cell_type": "markdown",
      "source": [
        "# 1. Intro suff:"
      ],
      "metadata": {
        "id": "6HkhC_QE8Y9U"
      }
    },
    {
      "cell_type": "code",
      "execution_count": null,
      "metadata": {
        "id": "7r0_E8aKr6Rb"
      },
      "outputs": [],
      "source": [
        "import torch"
      ]
    },
    {
      "cell_type": "code",
      "source": [
        "z = torch.zeros(5, 3)\n",
        "print(z)\n",
        "print(z.shape)"
      ],
      "metadata": {
        "colab": {
          "base_uri": "https://localhost:8080/"
        },
        "id": "iVorJUYAr70E",
        "outputId": "4dcb143e-1468-4c59-e6f5-1b4d6d672950"
      },
      "execution_count": null,
      "outputs": [
        {
          "output_type": "stream",
          "name": "stdout",
          "text": [
            "tensor([[0., 0., 0.],\n",
            "        [0., 0., 0.],\n",
            "        [0., 0., 0.],\n",
            "        [0., 0., 0.],\n",
            "        [0., 0., 0.]])\n",
            "torch.Size([5, 3])\n"
          ]
        }
      ]
    },
    {
      "cell_type": "code",
      "source": [
        "i = torch.ones((5, 3), dtype=torch.int16)\n",
        "print(i)"
      ],
      "metadata": {
        "colab": {
          "base_uri": "https://localhost:8080/"
        },
        "id": "8I-3xfLQsREP",
        "outputId": "f4775949-7fc7-4d87-9438-09ccdb731cdc"
      },
      "execution_count": null,
      "outputs": [
        {
          "output_type": "stream",
          "name": "stdout",
          "text": [
            "tensor([[1, 1, 1],\n",
            "        [1, 1, 1],\n",
            "        [1, 1, 1],\n",
            "        [1, 1, 1],\n",
            "        [1, 1, 1]], dtype=torch.int16)\n"
          ]
        }
      ]
    },
    {
      "cell_type": "code",
      "source": [
        "torch.manual_seed(1899)\n",
        "r1 = torch.rand(2, 2)\n",
        "print('r1 is: ')\n",
        "print(r1)\n",
        "\n",
        "\n",
        "r2 = torch.rand(2, 2)\n",
        "print('r2 is: ')\n",
        "print(r2)\n",
        "\n",
        "\n",
        "torch.manual_seed(1899)\n",
        "r3 = torch.rand(2, 2)\n",
        "print('r3 is: ')\n",
        "print(r3)"
      ],
      "metadata": {
        "colab": {
          "base_uri": "https://localhost:8080/"
        },
        "id": "p52uyXtLsntk",
        "outputId": "01872f35-a59a-46b4-90a9-38193afb7d96"
      },
      "execution_count": null,
      "outputs": [
        {
          "output_type": "stream",
          "name": "stdout",
          "text": [
            "r1 is: \n",
            "tensor([[0.1631, 0.4325],\n",
            "        [0.4405, 0.5859]])\n",
            "r2 is: \n",
            "tensor([[0.2496, 0.5482],\n",
            "        [0.9774, 0.2282]])\n",
            "r3 is: \n",
            "tensor([[0.1631, 0.4325],\n",
            "        [0.4405, 0.5859]])\n"
          ]
        }
      ]
    },
    {
      "cell_type": "code",
      "source": [
        "r = (torch.rand(2, 2) - 0.5) * 2 #is between (-1, 1)\n",
        "print('r is: ')\n",
        "print(r)"
      ],
      "metadata": {
        "colab": {
          "base_uri": "https://localhost:8080/"
        },
        "id": "01WqoXW2tyVB",
        "outputId": "f6b8c4bf-e25b-4ee7-8716-250f719feecf"
      },
      "execution_count": null,
      "outputs": [
        {
          "output_type": "stream",
          "name": "stdout",
          "text": [
            "r is: \n",
            "tensor([[-0.5008,  0.0963],\n",
            "        [ 0.9548, -0.5437]])\n"
          ]
        }
      ]
    },
    {
      "cell_type": "code",
      "source": [
        "print('|r|: ')\n",
        "print(torch.abs(r))\n",
        "\n",
        "print('\\narcsin(r): ')\n",
        "print(torch.asin(r))\n",
        "\n",
        "print('\\ndeterminant of r: ')\n",
        "print(torch.det(r))\n",
        "\n",
        "print('\\nsvd(r): ')\n",
        "print(torch.svd(r))\n",
        "\n",
        "print('\\nmean of r: ')\n",
        "print(torch.std_mean(r))\n",
        "\n",
        "print('\\nmaximum of r: ')\n",
        "print(torch.max(r))"
      ],
      "metadata": {
        "colab": {
          "base_uri": "https://localhost:8080/"
        },
        "id": "xlfk8rDvuhzU",
        "outputId": "d23b0ee3-cdab-4b05-b123-be1fddbba47d"
      },
      "execution_count": null,
      "outputs": [
        {
          "output_type": "stream",
          "name": "stdout",
          "text": [
            "|r|: \n",
            "tensor([[0.5008, 0.0963],\n",
            "        [0.9548, 0.5437]])\n",
            "\n",
            "arcsin(r): \n",
            "tensor([[-0.5245,  0.0965],\n",
            "        [ 1.2689, -0.5748]])\n",
            "\n",
            "determinant of r: \n",
            "tensor(0.1803)\n",
            "\n",
            "svd(r): \n",
            "torch.return_types.svd(\n",
            "U=tensor([[-0.4087,  0.9127],\n",
            "        [ 0.9127,  0.4087]]),\n",
            "S=tensor([1.2020, 0.1500]),\n",
            "V=tensor([[ 0.8952, -0.4456],\n",
            "        [-0.4456, -0.8952]]))\n",
            "\n",
            "mean of r: \n",
            "(tensor(0.6993), tensor(0.0017))\n",
            "\n",
            "maximum of r: \n",
            "tensor(0.9548)\n"
          ]
        }
      ]
    },
    {
      "cell_type": "code",
      "source": [
        "x = torch.randn(1, 10)\n",
        "prev_h = torch.randn(1, 20)\n",
        "w_h = torch.randn(20, 20)\n",
        "w_x = torch.randn(20, 10)\n",
        "\n",
        "i2h = torch.mm(w_x, x.t())\n",
        "h2h = torch.mm(w_h, prev_h.t())\n",
        "\n",
        "next_h = i2h + h2h\n",
        "next_h = next_h.tanh()\n",
        "\n",
        "loss = next_h.sum()\n",
        "loss.backward()"
      ],
      "metadata": {
        "colab": {
          "base_uri": "https://localhost:8080/",
          "height": 321
        },
        "id": "uZZ2t3NWuh2J",
        "outputId": "6b845c73-6059-4115-af4f-8db7d32fb9d4"
      },
      "execution_count": null,
      "outputs": [
        {
          "output_type": "error",
          "ename": "RuntimeError",
          "evalue": "element 0 of tensors does not require grad and does not have a grad_fn",
          "traceback": [
            "\u001b[0;31m---------------------------------------------------------------------------\u001b[0m",
            "\u001b[0;31mRuntimeError\u001b[0m                              Traceback (most recent call last)",
            "\u001b[0;32m<ipython-input-7-7c4200bdfc2c>\u001b[0m in \u001b[0;36m<cell line: 13>\u001b[0;34m()\u001b[0m\n\u001b[1;32m     11\u001b[0m \u001b[0;34m\u001b[0m\u001b[0m\n\u001b[1;32m     12\u001b[0m \u001b[0mloss\u001b[0m \u001b[0;34m=\u001b[0m \u001b[0mnext_h\u001b[0m\u001b[0;34m.\u001b[0m\u001b[0msum\u001b[0m\u001b[0;34m(\u001b[0m\u001b[0;34m)\u001b[0m\u001b[0;34m\u001b[0m\u001b[0;34m\u001b[0m\u001b[0m\n\u001b[0;32m---> 13\u001b[0;31m \u001b[0mloss\u001b[0m\u001b[0;34m.\u001b[0m\u001b[0mbackward\u001b[0m\u001b[0;34m(\u001b[0m\u001b[0;34m)\u001b[0m\u001b[0;34m\u001b[0m\u001b[0;34m\u001b[0m\u001b[0m\n\u001b[0m",
            "\u001b[0;32m/usr/local/lib/python3.10/dist-packages/torch/_tensor.py\u001b[0m in \u001b[0;36mbackward\u001b[0;34m(self, gradient, retain_graph, create_graph, inputs)\u001b[0m\n\u001b[1;32m    519\u001b[0m                 \u001b[0minputs\u001b[0m\u001b[0;34m=\u001b[0m\u001b[0minputs\u001b[0m\u001b[0;34m,\u001b[0m\u001b[0;34m\u001b[0m\u001b[0;34m\u001b[0m\u001b[0m\n\u001b[1;32m    520\u001b[0m             )\n\u001b[0;32m--> 521\u001b[0;31m         torch.autograd.backward(\n\u001b[0m\u001b[1;32m    522\u001b[0m             \u001b[0mself\u001b[0m\u001b[0;34m,\u001b[0m \u001b[0mgradient\u001b[0m\u001b[0;34m,\u001b[0m \u001b[0mretain_graph\u001b[0m\u001b[0;34m,\u001b[0m \u001b[0mcreate_graph\u001b[0m\u001b[0;34m,\u001b[0m \u001b[0minputs\u001b[0m\u001b[0;34m=\u001b[0m\u001b[0minputs\u001b[0m\u001b[0;34m\u001b[0m\u001b[0;34m\u001b[0m\u001b[0m\n\u001b[1;32m    523\u001b[0m         )\n",
            "\u001b[0;32m/usr/local/lib/python3.10/dist-packages/torch/autograd/__init__.py\u001b[0m in \u001b[0;36mbackward\u001b[0;34m(tensors, grad_tensors, retain_graph, create_graph, grad_variables, inputs)\u001b[0m\n\u001b[1;32m    287\u001b[0m     \u001b[0;31m# some Python versions print out the first line of a multi-line function\u001b[0m\u001b[0;34m\u001b[0m\u001b[0;34m\u001b[0m\u001b[0m\n\u001b[1;32m    288\u001b[0m     \u001b[0;31m# calls in the traceback and some print out the last line\u001b[0m\u001b[0;34m\u001b[0m\u001b[0;34m\u001b[0m\u001b[0m\n\u001b[0;32m--> 289\u001b[0;31m     _engine_run_backward(\n\u001b[0m\u001b[1;32m    290\u001b[0m         \u001b[0mtensors\u001b[0m\u001b[0;34m,\u001b[0m\u001b[0;34m\u001b[0m\u001b[0;34m\u001b[0m\u001b[0m\n\u001b[1;32m    291\u001b[0m         \u001b[0mgrad_tensors_\u001b[0m\u001b[0;34m,\u001b[0m\u001b[0;34m\u001b[0m\u001b[0;34m\u001b[0m\u001b[0m\n",
            "\u001b[0;32m/usr/local/lib/python3.10/dist-packages/torch/autograd/graph.py\u001b[0m in \u001b[0;36m_engine_run_backward\u001b[0;34m(t_outputs, *args, **kwargs)\u001b[0m\n\u001b[1;32m    767\u001b[0m         \u001b[0munregister_hooks\u001b[0m \u001b[0;34m=\u001b[0m \u001b[0m_register_logging_hooks_on_whole_graph\u001b[0m\u001b[0;34m(\u001b[0m\u001b[0mt_outputs\u001b[0m\u001b[0;34m)\u001b[0m\u001b[0;34m\u001b[0m\u001b[0;34m\u001b[0m\u001b[0m\n\u001b[1;32m    768\u001b[0m     \u001b[0;32mtry\u001b[0m\u001b[0;34m:\u001b[0m\u001b[0;34m\u001b[0m\u001b[0;34m\u001b[0m\u001b[0m\n\u001b[0;32m--> 769\u001b[0;31m         return Variable._execution_engine.run_backward(  # Calls into the C++ engine to run the backward pass\n\u001b[0m\u001b[1;32m    770\u001b[0m             \u001b[0mt_outputs\u001b[0m\u001b[0;34m,\u001b[0m \u001b[0;34m*\u001b[0m\u001b[0margs\u001b[0m\u001b[0;34m,\u001b[0m \u001b[0;34m**\u001b[0m\u001b[0mkwargs\u001b[0m\u001b[0;34m\u001b[0m\u001b[0;34m\u001b[0m\u001b[0m\n\u001b[1;32m    771\u001b[0m         )  # Calls into the C++ engine to run the backward pass\n",
            "\u001b[0;31mRuntimeError\u001b[0m: element 0 of tensors does not require grad and does not have a grad_fn"
          ]
        }
      ]
    },
    {
      "cell_type": "markdown",
      "source": [
        "# 2. NN model example:"
      ],
      "metadata": {
        "id": "aC_iCVYq8Ro_"
      }
    },
    {
      "cell_type": "code",
      "source": [
        "import torch # for all things pytorch\n",
        "import torch.nn as nn # for torch.nn.Module, the parent object for pytorch models\n",
        "import torch.nn.functional as F # for teh activation function"
      ],
      "metadata": {
        "id": "kY1_MRbtuh4-"
      },
      "execution_count": null,
      "outputs": []
    },
    {
      "cell_type": "code",
      "source": [
        "class LeNet(nn.Module):\n",
        "\n",
        "  def __init__(self):\n",
        "    super(LeNet, self).__init__() #or less redundant as: super().__init__()\n",
        "    self.conv1 = nn.Conv2d(1, 6, 3) #tensor(#input_channels, #output_channels, #convolution_kernel)\n",
        "    self.conv2 = nn.Conv2d(6, 16, 3)\n",
        "    self.fc1 = nn.Linear(16*6*6, 120)\n",
        "    self.fc2 = nn.Linear(120, 84)\n",
        "    self.fc3 = nn.Linear(84, 10)\n",
        "\n",
        "  def forward(self, x): #x is input\n",
        "    x = F.max_pool2d(F.relu(self.conv1(x)), 2) #maxpooling over a 2*2 window #for maxpoolng window, 2 is actually (2, 2) which we can also write instead.\n",
        "    x = F.max_pool2d(F.relu(self.conv2(x)), 2)\n",
        "    x = x.view(-1, self.num_flat_features(x))\n",
        "    x = F.relu(self.fc1(x))\n",
        "    x = F.relu(self.fc2(x))\n",
        "    x = self.fc3(x)\n",
        "    return x\n",
        "\n",
        "  def num_flat_features(self, x): #could have been done literally instead in above: x.size()[1]*x.size()[2]\n",
        "    size_x = x.size()[1:] #all dimensions except the batch dimension\n",
        "    num_features = 1\n",
        "\n",
        "    for s in size_x:\n",
        "      num_features *= s\n",
        "    return num_features"
      ],
      "metadata": {
        "id": "ictxrovmuh7x"
      },
      "execution_count": null,
      "outputs": []
    },
    {
      "cell_type": "code",
      "source": [
        "net = LeNet()\n",
        "print(net)\n",
        "\n",
        "input = torch.rand(1, 1, 32, 32) #example image of size 32*32 and black & white\n",
        "print('\\nimage: ')\n",
        "print(input)\n",
        "print('\\nimage shape: ')\n",
        "print(input.shape)\n",
        "\n",
        "output = net(input) #we don't call forward directly\n",
        "print('\\nraw output:')\n",
        "print(output)\n",
        "print('\\nraw output shape: ')\n",
        "print(output.shape)\n"
      ],
      "metadata": {
        "colab": {
          "base_uri": "https://localhost:8080/"
        },
        "id": "rOkc_lDc8XLx",
        "outputId": "68425c6b-fc7d-45b2-964e-b6b28bd46eff"
      },
      "execution_count": null,
      "outputs": [
        {
          "output_type": "stream",
          "name": "stdout",
          "text": [
            "LeNet(\n",
            "  (conv1): Conv2d(1, 6, kernel_size=(3, 3), stride=(1, 1))\n",
            "  (conv2): Conv2d(6, 16, kernel_size=(3, 3), stride=(1, 1))\n",
            "  (fc1): Linear(in_features=576, out_features=120, bias=True)\n",
            "  (fc2): Linear(in_features=120, out_features=84, bias=True)\n",
            "  (fc3): Linear(in_features=84, out_features=10, bias=True)\n",
            ")\n",
            "\n",
            "image: \n",
            "tensor([[[[0.7995, 0.3001, 0.2443,  ..., 0.3732, 0.3692, 0.9898],\n",
            "          [0.2174, 0.3696, 0.3510,  ..., 0.5153, 0.5295, 0.2001],\n",
            "          [0.5032, 0.8733, 0.4496,  ..., 0.3689, 0.7717, 0.0253],\n",
            "          ...,\n",
            "          [0.6915, 0.1036, 0.6693,  ..., 0.0758, 0.5914, 0.5840],\n",
            "          [0.2117, 0.1828, 0.4010,  ..., 0.7058, 0.0770, 0.4822],\n",
            "          [0.7201, 0.0173, 0.0995,  ..., 0.8576, 0.0402, 0.9390]]]])\n",
            "\n",
            "image shape: \n",
            "torch.Size([1, 1, 32, 32])\n",
            "\n",
            "raw output:\n",
            "tensor([[-0.0170,  0.0489,  0.0940, -0.1064, -0.0564,  0.0344, -0.0090,  0.0540,\n",
            "         -0.1037, -0.0420]], grad_fn=<AddmmBackward0>)\n",
            "\n",
            "raw output shape: \n",
            "torch.Size([1, 10])\n"
          ]
        }
      ]
    },
    {
      "cell_type": "markdown",
      "source": [
        "# 3. Datasets and Dataloaders:"
      ],
      "metadata": {
        "id": "jFImzv6OMr-1"
      }
    },
    {
      "cell_type": "code",
      "source": [
        "%matplotlib inline\n",
        "\n",
        "import torch\n",
        "import torchvision\n",
        "import torchvision.transforms as transforms"
      ],
      "metadata": {
        "id": "L0EyjpgDMY6f"
      },
      "execution_count": null,
      "outputs": []
    },
    {
      "cell_type": "code",
      "source": [
        "#transforming images to pytorch tensors\n",
        "\n",
        "transform = transforms.Compose([transforms.ToTensor(), transforms.Normalize((0.5, 0.5, 0.5), (0.5, 0.5, 0.5))])"
      ],
      "metadata": {
        "id": "sV3CJOFJMZA5"
      },
      "execution_count": null,
      "outputs": []
    },
    {
      "cell_type": "code",
      "source": [
        "#dataset:\n",
        "\n",
        "trainset = torchvision.datasets.CIFAR10('./data', train=True, download=True, transform=transform)"
      ],
      "metadata": {
        "colab": {
          "base_uri": "https://localhost:8080/"
        },
        "id": "4B6UMocCV_0a",
        "outputId": "1a589786-406f-45bb-b38a-56d11758a167"
      },
      "execution_count": null,
      "outputs": [
        {
          "output_type": "stream",
          "name": "stdout",
          "text": [
            "Downloading https://www.cs.toronto.edu/~kriz/cifar-10-python.tar.gz to ./data/cifar-10-python.tar.gz\n"
          ]
        },
        {
          "output_type": "stream",
          "name": "stderr",
          "text": [
            "100%|██████████| 170498071/170498071 [00:18<00:00, 9227919.27it/s]\n"
          ]
        },
        {
          "output_type": "stream",
          "name": "stdout",
          "text": [
            "Extracting ./data/cifar-10-python.tar.gz to ./data\n"
          ]
        }
      ]
    },
    {
      "cell_type": "code",
      "source": [
        "#data loader:\n",
        "\n",
        "trainloader = torch.utils.data.DataLoader(trainset, batch_size=4, shuffle=True, num_workers=2)"
      ],
      "metadata": {
        "id": "fF8tzZ66WIee"
      },
      "execution_count": null,
      "outputs": []
    },
    {
      "cell_type": "code",
      "source": [
        "# #show a sample of teh image:\n",
        "\n",
        "# import matplotlib.pyplot as plt\n",
        "# import numpy as np\n",
        "\n",
        "# classes = ('plane', 'car', 'bird', 'cat', 'deer', 'dog', 'frog', 'horse', 'ship', 'truck')\n",
        "\n",
        "# def imshow(img):\n",
        "#   img = img/2 + 0.5 #unnormalize\n",
        "#   npimg = img.numpy()\n",
        "#   plt.imshow(np.transpose(npimg, (1, 2, 0)))\n",
        "\n",
        "# #get some random training images\n",
        "# dataiter = iter(trainloader)\n",
        "# images, labels = dataiter.next()\n",
        "\n",
        "# #show images\n",
        "# imshow(torchvision.utils.make_grid(images))\n",
        "# #print labels\n",
        "# print(''.join('%5s' % classes[labels[j]] for j in range(4)))"
      ],
      "metadata": {
        "id": "xV2evbMIWIg1"
      },
      "execution_count": null,
      "outputs": []
    },
    {
      "cell_type": "markdown",
      "source": [
        "# 4. Training the model:"
      ],
      "metadata": {
        "id": "C8dHcEMDl9uP"
      }
    },
    {
      "cell_type": "code",
      "source": [
        "#Find it under 'pytorch_02.ipynb'"
      ],
      "metadata": {
        "id": "phPJkjKjWIjl"
      },
      "execution_count": null,
      "outputs": []
    },
    {
      "cell_type": "code",
      "source": [],
      "metadata": {
        "id": "t8zITuv1mygT"
      },
      "execution_count": null,
      "outputs": []
    }
  ]
}