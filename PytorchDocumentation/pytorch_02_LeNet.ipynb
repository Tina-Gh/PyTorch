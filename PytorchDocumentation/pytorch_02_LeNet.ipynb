{
  "nbformat": 4,
  "nbformat_minor": 0,
  "metadata": {
    "colab": {
      "provenance": [],
      "gpuType": "T4",
      "authorship_tag": "ABX9TyMw/1p6IxUGY6rvWFoL394T",
      "include_colab_link": true
    },
    "kernelspec": {
      "name": "python3",
      "display_name": "Python 3"
    },
    "language_info": {
      "name": "python"
    },
    "accelerator": "GPU"
  },
  "cells": [
    {
      "cell_type": "markdown",
      "metadata": {
        "id": "view-in-github",
        "colab_type": "text"
      },
      "source": [
        "<a href=\"https://colab.research.google.com/github/Tina-Gh/PyTorch/blob/main/PytorchDocumentation/pytorch_02_LeNet.ipynb\" target=\"_parent\"><img src=\"https://colab.research.google.com/assets/colab-badge.svg\" alt=\"Open In Colab\"/></a>"
      ]
    },
    {
      "cell_type": "markdown",
      "source": [
        "#### <b>Link: <a href=\"https://pytorch.org/tutorials/beginner/introyt/introyt1_tutorial.html\" target=\"_blank\">PyTorch Documentation</a>"
      ],
      "metadata": {
        "id": "VSw8s68SvHlD"
      }
    },
    {
      "cell_type": "markdown",
      "source": [
        "## 1. Loading libraries:"
      ],
      "metadata": {
        "id": "0CN-4r78sT-7"
      }
    },
    {
      "cell_type": "code",
      "execution_count": null,
      "metadata": {
        "id": "HBEXtZMGmZ05"
      },
      "outputs": [],
      "source": [
        "%matplotlib inline\n",
        "\n",
        "import torch\n",
        "import torch.nn as nn\n",
        "import torch.nn.functional as F\n",
        "import torch.optim as optim\n",
        "\n",
        "import torchvision\n",
        "import torchvision.transforms as transforms\n",
        "\n",
        "import matplotlib\n",
        "import matplotlib.pyplot as plt\n",
        "\n",
        "import numpy as np\n",
        "\n",
        "import tensorflow as tf #just to check the gpu access"
      ]
    },
    {
      "cell_type": "markdown",
      "source": [
        "## 2. Download datasets and apply transforms:"
      ],
      "metadata": {
        "id": "oQrLzdQusf0Q"
      }
    },
    {
      "cell_type": "code",
      "source": [
        "transform = transforms.Compose(\n",
        "    [transforms.ToTensor(),\n",
        "    transforms.Normalize((0.5, 0.5, 0.5), (0.5, 0.5, 0.5))])\n",
        "\n",
        "trainset = torchvision.datasets.CIFAR10(root='./data', train=True, download=True, transform=transform)\n",
        "\n",
        "trainloader = torch.utils.data.DataLoader(trainset, batch_size=4, shuffle=True, num_workers=2)\n",
        "\n",
        "testset = torchvision.datasets.CIFAR10(root='./data', train=False, download=True, transform=transform)\n",
        "\n",
        "testloader = torch.utils.data.DataLoader(testset, batch_size=4, shuffle=False, num_workers=2)\n",
        "\n",
        "classes = ('plane', 'car', 'bird', 'cat', 'deer', 'dog', 'frog', 'horse', 'ship', 'truck')"
      ],
      "metadata": {
        "colab": {
          "base_uri": "https://localhost:8080/"
        },
        "id": "vqZqrZeRm-H_",
        "outputId": "2833017c-6541-404c-f600-c56910b5b3d7"
      },
      "execution_count": null,
      "outputs": [
        {
          "output_type": "stream",
          "name": "stdout",
          "text": [
            "Downloading https://www.cs.toronto.edu/~kriz/cifar-10-python.tar.gz to ./data/cifar-10-python.tar.gz\n"
          ]
        },
        {
          "output_type": "stream",
          "name": "stderr",
          "text": [
            "100%|██████████| 170498071/170498071 [00:03<00:00, 46894504.08it/s]\n"
          ]
        },
        {
          "output_type": "stream",
          "name": "stdout",
          "text": [
            "Extracting ./data/cifar-10-python.tar.gz to ./data\n",
            "Files already downloaded and verified\n"
          ]
        }
      ]
    },
    {
      "cell_type": "code",
      "source": [
        "#checkout the output of DataLoader:\n",
        "\n",
        "#functions to show an image:\n",
        "\n",
        "def imshow(img):\n",
        "  img = img/2 + 0.5 #unnormalize\n",
        "  npimg = img.numpy()\n",
        "  plt.imshow(np.transpose(npimg, (1, 2, 0)))\n",
        "\n",
        "#get some random training images:\n",
        "dataiter = iter(trainloader)\n",
        "images, labels = next(dataiter)\n",
        "\n",
        "#show images:\n",
        "imshow(torchvision.utils.make_grid(images))\n",
        "\n",
        "#print labels:\n",
        "print(' '.join('%5a' % classes[labels[j]] for j in range(4)))"
      ],
      "metadata": {
        "colab": {
          "base_uri": "https://localhost:8080/",
          "height": 210
        },
        "id": "U1h95nIAm_Bk",
        "outputId": "fa1c784f-f0c8-44b8-8d20-3bfec506034d"
      },
      "execution_count": null,
      "outputs": [
        {
          "output_type": "stream",
          "name": "stdout",
          "text": [
            "'dog' 'ship' 'plane' 'bird'\n"
          ]
        },
        {
          "output_type": "display_data",
          "data": {
            "text/plain": [
              "<Figure size 640x480 with 1 Axes>"
            ],
            "image/png": "[encoded data removed]"
          },
          "metadata": {}
        }
      ]
    },
    {
      "cell_type": "markdown",
      "source": [
        "## 3. Model:"
      ],
      "metadata": {
        "id": "L6yD-aqup8Uh"
      }
    },
    {
      "cell_type": "code",
      "source": [
        "#class model:\n",
        "\n",
        "class Net(nn.Module):\n",
        "  def __init__(self):\n",
        "    super(Net, self).__init__()\n",
        "    self.conv1 = nn.Conv2d(3, 6, 5)\n",
        "    self.pool = nn.MaxPool2d(2, 2)\n",
        "    self.conv2 = nn.Conv2d(6, 16, 5)\n",
        "    self.fc1 = nn.Linear(16*5*5, 120)\n",
        "    self.fc2 = nn.Linear(120, 84)\n",
        "    self.fc3 = nn.Linear(84, 10)\n",
        "\n",
        "  def forward(self, x):\n",
        "    x = self.pool(F.relu(self.conv1(x)))\n",
        "    x = self.pool(F.relu(self.conv2(x)))\n",
        "    x = x.view(-1, 16*5*5)\n",
        "    x = F.relu(self.fc1(x))\n",
        "    x = F.relu(self.fc2(x))\n",
        "    x = F.relu(self.fc3(x))\n",
        "    return x\n",
        "\n",
        "net = Net()"
      ],
      "metadata": {
        "id": "LceBo8sH1fVU"
      },
      "execution_count": null,
      "outputs": []
    },
    {
      "cell_type": "code",
      "source": [
        "#loss function and optimizer:\n",
        "\n",
        "criterian = nn.CrossEntropyLoss()\n",
        "optimizer = optim.SGD(net.parameters(), lr=0.001, momentum=0.9)"
      ],
      "metadata": {
        "id": "TYits91Qp55U"
      },
      "execution_count": null,
      "outputs": []
    },
    {
      "cell_type": "code",
      "source": [
        "#training loop:\n",
        "\n",
        "n_epochs = 2\n",
        "for epoch in range(n_epochs):\n",
        "  running_loss = 0\n",
        "\n",
        "  flag=1\n",
        "  for i, data in enumerate(trainloader):\n",
        "    inputs, labels = data\n",
        "\n",
        "    optimizer.zero_grad() #zero the gradients for every batch\n",
        "    outputs = net(inputs) #make predictions\n",
        "    loss = criterian(outputs, labels) #calculate loss\n",
        "    loss.backward()\n",
        "    optimizer.step() #adjust learning weights\n",
        "\n",
        "    running_loss += loss.item() #because loss is shown as: tensor(2.2839, grad_fn=<NllLossBackward0>)\n",
        "    #print statistics:\n",
        "    if i % 2000 == 1999: #only shows every 2000th batches for the purpose of being concise:\n",
        "      print('[Epoch %d, Batch %d] loss: %.3f ' %(epoch+1, i+1, running_loss/2000))\n",
        "      running_loss = 0\n",
        "\n",
        "# print('Finished Training')"
      ],
      "metadata": {
        "colab": {
          "base_uri": "https://localhost:8080/"
        },
        "id": "E9SGn3rMp57i",
        "outputId": "edbcdd40-d973-4725-d60b-ac5a4cc943a6"
      },
      "execution_count": null,
      "outputs": [
        {
          "output_type": "stream",
          "name": "stdout",
          "text": [
            "[Epoch 1, Batch 2000] loss: 1.203 \n",
            "[Epoch 1, Batch 4000] loss: 1.184 \n",
            "[Epoch 1, Batch 6000] loss: 1.195 \n",
            "[Epoch 1, Batch 8000] loss: 1.182 \n",
            "[Epoch 1, Batch 10000] loss: 1.191 \n",
            "[Epoch 1, Batch 12000] loss: 1.169 \n",
            "[Epoch 2, Batch 2000] loss: 1.099 \n",
            "[Epoch 2, Batch 4000] loss: 1.114 \n",
            "[Epoch 2, Batch 6000] loss: 1.111 \n",
            "[Epoch 2, Batch 8000] loss: 1.094 \n",
            "[Epoch 2, Batch 10000] loss: 1.099 \n",
            "[Epoch 2, Batch 12000] loss: 1.105 \n"
          ]
        }
      ]
    },
    {
      "cell_type": "code",
      "source": [
        "!nvidia-smi"
      ],
      "metadata": {
        "colab": {
          "base_uri": "https://localhost:8080/"
        },
        "id": "2vcvUIMNfJHu",
        "outputId": "3beaf63d-fb5e-4b73-d2a9-e33e06da3cc7"
      },
      "execution_count": null,
      "outputs": [
        {
          "output_type": "stream",
          "name": "stdout",
          "text": [
            "Thu Oct 17 18:04:29 2024       \n",
            "+---------------------------------------------------------------------------------------+\n",
            "| NVIDIA-SMI 535.104.05             Driver Version: 535.104.05   CUDA Version: 12.2     |\n",
            "|-----------------------------------------+----------------------+----------------------+\n",
            "| GPU  Name                 Persistence-M | Bus-Id        Disp.A | Volatile Uncorr. ECC |\n",
            "| Fan  Temp   Perf          Pwr:Usage/Cap |         Memory-Usage | GPU-Util  Compute M. |\n",
            "|                                         |                      |               MIG M. |\n",
            "|=========================================+======================+======================|\n",
            "|   0  Tesla T4                       Off | 00000000:00:04.0 Off |                    0 |\n",
            "| N/A   45C    P0              27W /  70W |    103MiB / 15360MiB |      0%      Default |\n",
            "|                                         |                      |                  N/A |\n",
            "+-----------------------------------------+----------------------+----------------------+\n",
            "                                                                                         \n",
            "+---------------------------------------------------------------------------------------+\n",
            "| Processes:                                                                            |\n",
            "|  GPU   GI   CI        PID   Type   Process name                            GPU Memory |\n",
            "|        ID   ID                                                             Usage      |\n",
            "|=======================================================================================|\n",
            "+---------------------------------------------------------------------------------------+\n"
          ]
        }
      ]
    },
    {
      "cell_type": "code",
      "source": [
        "print(tf.test.gpu_device_name())\n",
        "DEVICE = torch.device(\"cuda:0\" if torch.cuda.is_available() else \"cpu\")\n",
        "print(DEVICE)"
      ],
      "metadata": {
        "colab": {
          "base_uri": "https://localhost:8080/"
        },
        "id": "yyDep58goUTr",
        "outputId": "7719b637-f91d-4d3c-8830-fa0a66f0234c"
      },
      "execution_count": null,
      "outputs": [
        {
          "output_type": "stream",
          "name": "stdout",
          "text": [
            "/device:GPU:0\n",
            "cuda:0\n"
          ]
        }
      ]
    },
    {
      "cell_type": "markdown",
      "source": [
        "## 4. Inference:"
      ],
      "metadata": {
        "id": "1f71VtjQrIkT"
      }
    },
    {
      "cell_type": "code",
      "source": [
        "#check for overfitting:\n",
        "\n",
        "for i, data in enumerate(testloader):\n",
        "  images, labels = data\n",
        "\n",
        "  outputs = net(images)"
      ],
      "metadata": {
        "id": "f2W7HWIYrHWK"
      },
      "execution_count": null,
      "outputs": []
    },
    {
      "cell_type": "code",
      "source": [
        "outputs.shape"
      ],
      "metadata": {
        "colab": {
          "base_uri": "https://localhost:8080/"
        },
        "id": "oJT_8sIIoAVO",
        "outputId": "e3bf71ed-adb2-4132-cb2b-71cb07f4a16f"
      },
      "execution_count": null,
      "outputs": [
        {
          "output_type": "execute_result",
          "data": {
            "text/plain": [
              "torch.Size([4, 10])"
            ]
          },
          "metadata": {},
          "execution_count": 46
        }
      ]
    },
    {
      "cell_type": "code",
      "source": [
        "data[0].shape"
      ],
      "metadata": {
        "colab": {
          "base_uri": "https://localhost:8080/"
        },
        "id": "rlhxnLYtoAXa",
        "outputId": "ba8765dd-1a98-4d3b-d8da-3f7cca730d5c"
      },
      "execution_count": null,
      "outputs": [
        {
          "output_type": "execute_result",
          "data": {
            "text/plain": [
              "torch.Size([4, 3, 32, 32])"
            ]
          },
          "metadata": {},
          "execution_count": 39
        }
      ]
    },
    {
      "cell_type": "code",
      "source": [
        "data[1]"
      ],
      "metadata": {
        "colab": {
          "base_uri": "https://localhost:8080/"
        },
        "id": "ikGPKy9QsZSX",
        "outputId": "a56499b2-890b-40d8-8601-df5e0dbb8125"
      },
      "execution_count": null,
      "outputs": [
        {
          "output_type": "execute_result",
          "data": {
            "text/plain": [
              "tensor([3, 8, 8, 0])"
            ]
          },
          "metadata": {},
          "execution_count": 40
        }
      ]
    },
    {
      "cell_type": "code",
      "source": [],
      "metadata": {
        "id": "nDVgaIFpslAI"
      },
      "execution_count": null,
      "outputs": []
    }
  ]
}