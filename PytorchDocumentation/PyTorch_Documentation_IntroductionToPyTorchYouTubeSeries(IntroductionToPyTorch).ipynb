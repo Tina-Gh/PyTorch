{
  "nbformat": 4,
  "nbformat_minor": 0,
  "metadata": {
    "colab": {
      "provenance": [],
      "gpuType": "T4",
      "authorship_tag": "ABX9TyPzX8WYxosAHHKTwZE9BvDK",
      "include_colab_link": true
    },
    "kernelspec": {
      "name": "python3",
      "display_name": "Python 3"
    },
    "language_info": {
      "name": "python"
    },
    "accelerator": "GPU"
  },
  "cells": [
    {
      "cell_type": "markdown",
      "metadata": {
        "id": "view-in-github",
        "colab_type": "text"
      },
      "source": [
        "<a href=\"https://colab.research.google.com/github/Tina-Gh/PyTorch/blob/main/PytorchDocumentation/PyTorch_Documentation_IntroductionToPyTorchYouTubeSeries(IntroductionToPyTorch).ipynb\" target=\"_parent\"><img src=\"https://colab.research.google.com/assets/colab-badge.svg\" alt=\"Open In Colab\"/></a>"
      ]
    },
    {
      "cell_type": "markdown",
      "source": [
        "# <b> 1. Tensor:"
      ],
      "metadata": {
        "id": "F7ln6XUlsdBp"
      }
    },
    {
      "cell_type": "code",
      "source": [
        "import torch # for all things PyTorch\n",
        "import torch.nn as nn # for torch.nn.Module, the parent object for PyTorch modules\n",
        "import torch.nn.functional as F # for teh activation function\n",
        "import torch.optim as optim"
      ],
      "metadata": {
        "id": "P69i8g8w5sHw"
      },
      "execution_count": 1,
      "outputs": []
    },
    {
      "cell_type": "code",
      "source": [
        "z = torch.zeros(5, 3)\n",
        "print(f\"Z: {z}\")\n",
        "print(f\"type: {z.dtype}\") #torch default is: torch.float32 which is also ideal for GPU."
      ],
      "metadata": {
        "colab": {
          "base_uri": "https://localhost:8080/"
        },
        "id": "N9s-OVVlE_v0",
        "outputId": "71b5c82a-636f-496f-bc30-1ec030268066"
      },
      "execution_count": 2,
      "outputs": [
        {
          "output_type": "stream",
          "name": "stdout",
          "text": [
            "Z: tensor([[0., 0., 0.],\n",
            "        [0., 0., 0.],\n",
            "        [0., 0., 0.],\n",
            "        [0., 0., 0.],\n",
            "        [0., 0., 0.]])\n",
            "type: torch.float32\n"
          ]
        }
      ]
    },
    {
      "cell_type": "code",
      "source": [
        "i = torch.ones((5, 3), dtype=torch.int16)\n",
        "print(f\"i: {i}\")\n",
        "print(f\"type: {i.dtype}\")"
      ],
      "metadata": {
        "colab": {
          "base_uri": "https://localhost:8080/"
        },
        "id": "PY0KENtTE_yD",
        "outputId": "165b005a-476d-4f67-c497-fbd8aaa9482d"
      },
      "execution_count": 3,
      "outputs": [
        {
          "output_type": "stream",
          "name": "stdout",
          "text": [
            "i: tensor([[1, 1, 1],\n",
            "        [1, 1, 1],\n",
            "        [1, 1, 1],\n",
            "        [1, 1, 1],\n",
            "        [1, 1, 1]], dtype=torch.int16)\n",
            "type: torch.int16\n"
          ]
        }
      ]
    },
    {
      "cell_type": "code",
      "source": [
        "torch.manual_seed(1729)\n",
        "r1 = torch.rand(2, 2)\n",
        "print(f\"r1: {r1} \\n\")\n",
        "\n",
        "r2 = torch.rand(2, 2)\n",
        "print(f\"r2: {r2} \\n\")\n",
        "\n",
        "torch.manual_seed(1729)\n",
        "r3 = torch.rand(2, 2)\n",
        "print(f\"r3: {r3} \\n\")"
      ],
      "metadata": {
        "colab": {
          "base_uri": "https://localhost:8080/"
        },
        "id": "sEhLFokfE_0g",
        "outputId": "9e580dde-a6a2-41b6-ad96-90043ed20283"
      },
      "execution_count": 4,
      "outputs": [
        {
          "output_type": "stream",
          "name": "stdout",
          "text": [
            "r1: tensor([[0.3126, 0.3791],\n",
            "        [0.3087, 0.0736]]) \n",
            "\n",
            "r2: tensor([[0.4216, 0.0691],\n",
            "        [0.2332, 0.4047]]) \n",
            "\n",
            "r3: tensor([[0.3126, 0.3791],\n",
            "        [0.3087, 0.0736]]) \n",
            "\n"
          ]
        }
      ]
    },
    {
      "cell_type": "code",
      "source": [
        "ones = torch.ones(2, 3)\n",
        "print(f\"ones: {ones} \\n\")\n",
        "\n",
        "twos = torch.ones(2, 3) * 2\n",
        "print(f\"twos: {twos} \\n\")\n",
        "\n",
        "threes = ones + twos\n",
        "print(f\"threes: {threes}\")\n",
        "print(f\"shape: {threes.shape} \\n\")\n",
        "\n",
        "# r1 = torch.rand(2, 3)\n",
        "# r2 = torch.rand(3, 2)\n",
        "# r3 = r1 + r2 #should give error since r1 and r2 have different shapes\n",
        "# print(f\"r3: {r3}\")"
      ],
      "metadata": {
        "colab": {
          "base_uri": "https://localhost:8080/"
        },
        "id": "54xgPQcIE_3A",
        "outputId": "acf71a0a-99f8-41c1-9729-4c6d36df76a0"
      },
      "execution_count": 5,
      "outputs": [
        {
          "output_type": "stream",
          "name": "stdout",
          "text": [
            "ones: tensor([[1., 1., 1.],\n",
            "        [1., 1., 1.]]) \n",
            "\n",
            "twos: tensor([[2., 2., 2.],\n",
            "        [2., 2., 2.]]) \n",
            "\n",
            "threes: tensor([[3., 3., 3.],\n",
            "        [3., 3., 3.]])\n",
            "shape: torch.Size([2, 3]) \n",
            "\n"
          ]
        }
      ]
    },
    {
      "cell_type": "code",
      "source": [
        "r = (torch.rand(2, 2) - 0.5) * 2 #values between -1 and 1\n",
        "print(f\"r: {r} \\n\")\n",
        "print(f\"Abs(r): {torch.abs(r)} \\n\")\n",
        "print(f\"inverse sine(r): {torch.asin(r) * 360 / (2*torch.pi)} \\n\") #in degrees\n",
        "print(f\"determinant(r): {torch.det(r)} \\n\")\n",
        "print(f\"svd(r): {torch.svd(r)} \\n\")\n",
        "print(f\"standard mean(r): {torch.std_mean(r)} \\n\")\n",
        "print(f\"max(r): {torch.max(r)}\")"
      ],
      "metadata": {
        "colab": {
          "base_uri": "https://localhost:8080/"
        },
        "id": "piDfg5kVE_5m",
        "outputId": "84269047-0a4c-4f78-8ab8-eb3642800410"
      },
      "execution_count": 6,
      "outputs": [
        {
          "output_type": "stream",
          "name": "stdout",
          "text": [
            "r: tensor([[-0.1568, -0.8619],\n",
            "        [-0.5336, -0.1907]]) \n",
            "\n",
            "Abs(r): tensor([[0.1568, 0.8619],\n",
            "        [0.5336, 0.1907]]) \n",
            "\n",
            "inverse sine(r): tensor([[ -9.0210, -59.5298],\n",
            "        [-32.2464, -10.9929]]) \n",
            "\n",
            "determinant(r): -0.4299735724925995 \n",
            "\n",
            "svd(r): torch.return_types.svd(\n",
            "U=tensor([[-0.9135, -0.4069],\n",
            "        [-0.4069,  0.9135]]),\n",
            "S=tensor([0.9370, 0.4589]),\n",
            "V=tensor([[ 0.3846, -0.9231],\n",
            "        [ 0.9231,  0.3846]])) \n",
            "\n",
            "standard mean(r): (tensor(0.3312), tensor(-0.4357)) \n",
            "\n",
            "max(r): -0.15679681301116943\n"
          ]
        }
      ]
    },
    {
      "cell_type": "code",
      "source": [
        "x = torch.randn(1, 10)\n",
        "prev_h = torch.randn(1, 20)\n",
        "w_x = torch.randn(20, 10, requires_grad=True)\n",
        "w_h = torch.randn(20, 20, requires_grad=True)\n",
        "\n",
        "i2h = torch.mm(w_x, x.t())\n",
        "h2h = torch.mm(w_h, prev_h.t())\n",
        "next_h = torch.tanh(i2h + h2h)\n",
        "\n",
        "loss = next_h.sum()\n",
        "loss.backward()\n",
        "print(w_h.grad, w_x.grad, loss)"
      ],
      "metadata": {
        "colab": {
          "base_uri": "https://localhost:8080/"
        },
        "id": "wVjoKWU_e93d",
        "outputId": "41c69533-a02a-4f37-cb59-2d131cd9d4de"
      },
      "execution_count": 7,
      "outputs": [
        {
          "output_type": "stream",
          "name": "stdout",
          "text": [
            "tensor([[-0.0000e+00, -0.0000e+00, -0.0000e+00,  0.0000e+00,  0.0000e+00,\n",
            "         -0.0000e+00, -0.0000e+00, -0.0000e+00, -0.0000e+00,  0.0000e+00,\n",
            "         -0.0000e+00, -0.0000e+00,  0.0000e+00, -0.0000e+00,  0.0000e+00,\n",
            "          0.0000e+00, -0.0000e+00, -0.0000e+00,  0.0000e+00, -0.0000e+00],\n",
            "        [-3.0994e-03, -4.9168e-03, -1.5278e-03,  4.4449e-03,  6.0700e-04,\n",
            "         -5.0620e-03, -4.3243e-03, -3.3197e-03, -1.1357e-03,  2.4492e-03,\n",
            "         -4.5949e-04, -8.7501e-05,  2.6230e-03, -1.2844e-03,  4.6893e-03,\n",
            "          2.3894e-03, -6.3782e-03, -5.0649e-03,  6.5142e-03, -1.1123e-03],\n",
            "        [-3.3321e-05, -5.2860e-05, -1.6425e-05,  4.7786e-05,  6.5258e-06,\n",
            "         -5.4421e-05, -4.6490e-05, -3.5689e-05, -1.2210e-05,  2.6331e-05,\n",
            "         -4.9399e-06, -9.4071e-07,  2.8200e-05, -1.3809e-05,  5.0414e-05,\n",
            "          2.5688e-05, -6.8572e-05, -5.4452e-05,  7.0034e-05, -1.1958e-05],\n",
            "        [-1.3333e-02, -2.1150e-02, -6.5720e-03,  1.9120e-02,  2.6111e-03,\n",
            "         -2.1775e-02, -1.8601e-02, -1.4280e-02, -4.8853e-03,  1.0535e-02,\n",
            "         -1.9766e-03, -3.7640e-04,  1.1283e-02, -5.5252e-03,  2.0172e-02,\n",
            "          1.0278e-02, -2.7437e-02, -2.1787e-02,  2.8022e-02, -4.7846e-03],\n",
            "        [-1.3015e-05, -2.0646e-05, -6.4154e-06,  1.8664e-05,  2.5489e-06,\n",
            "         -2.1256e-05, -1.8158e-05, -1.3940e-05, -4.7689e-06,  1.0284e-05,\n",
            "         -1.9295e-06, -3.6743e-07,  1.1014e-05, -5.3935e-06,  1.9691e-05,\n",
            "          1.0033e-05, -2.6783e-05, -2.1268e-05,  2.7354e-05, -4.6705e-06],\n",
            "        [-3.8121e-05, -6.0474e-05, -1.8791e-05,  5.4669e-05,  7.4657e-06,\n",
            "         -6.2260e-05, -5.3186e-05, -4.0830e-05, -1.3968e-05,  3.0123e-05,\n",
            "         -5.6515e-06, -1.0762e-06,  3.2262e-05, -1.5798e-05,  5.7676e-05,\n",
            "          2.9388e-05, -7.8449e-05, -6.2296e-05,  8.0121e-05, -1.3680e-05],\n",
            "        [-5.5823e-02, -8.8557e-02, -2.7517e-02,  8.0056e-02,  1.0933e-02,\n",
            "         -9.1172e-02, -7.7884e-02, -5.9790e-02, -2.0455e-02,  4.4112e-02,\n",
            "         -8.2758e-03, -1.5760e-03,  4.7243e-02, -2.3134e-02,  8.4458e-02,\n",
            "          4.3035e-02, -1.1488e-01, -9.1224e-02,  1.1733e-01, -2.0033e-02],\n",
            "        [-3.8725e-03, -6.1432e-03, -1.9089e-03,  5.5535e-03,  7.5840e-04,\n",
            "         -6.3246e-03, -5.4028e-03, -4.1476e-03, -1.4189e-03,  3.0600e-03,\n",
            "         -5.7410e-04, -1.0933e-04,  3.2772e-03, -1.6048e-03,  5.8589e-03,\n",
            "          2.9853e-03, -7.9691e-03, -6.3282e-03,  8.1390e-03, -1.3897e-03],\n",
            "        [-0.0000e+00, -0.0000e+00, -0.0000e+00,  0.0000e+00,  0.0000e+00,\n",
            "         -0.0000e+00, -0.0000e+00, -0.0000e+00, -0.0000e+00,  0.0000e+00,\n",
            "         -0.0000e+00, -0.0000e+00,  0.0000e+00, -0.0000e+00,  0.0000e+00,\n",
            "          0.0000e+00, -0.0000e+00, -0.0000e+00,  0.0000e+00, -0.0000e+00],\n",
            "        [-2.9298e-03, -4.6478e-03, -1.4442e-03,  4.2016e-03,  5.7378e-04,\n",
            "         -4.7850e-03, -4.0877e-03, -3.1380e-03, -1.0735e-03,  2.3151e-03,\n",
            "         -4.3435e-04, -8.2713e-05,  2.4795e-03, -1.2142e-03,  4.4327e-03,\n",
            "          2.2586e-03, -6.0292e-03, -4.7878e-03,  6.1578e-03, -1.0514e-03],\n",
            "        [-1.2923e-06, -2.0500e-06, -6.3699e-07,  1.8532e-06,  2.5308e-07,\n",
            "         -2.1105e-06, -1.8029e-06, -1.3841e-06, -4.7351e-07,  1.0211e-06,\n",
            "         -1.9158e-07, -3.6482e-08,  1.0936e-06, -5.3553e-07,  1.9551e-06,\n",
            "          9.9622e-07, -2.6593e-06, -2.1117e-06,  2.7160e-06, -4.6374e-07],\n",
            "        [-1.7241e-01, -2.7351e-01, -8.4986e-02,  2.4725e-01,  3.3765e-02,\n",
            "         -2.8158e-01, -2.4054e-01, -1.8466e-01, -6.3174e-02,  1.3624e-01,\n",
            "         -2.5560e-02, -4.8674e-03,  1.4591e-01, -7.1449e-02,  2.6085e-01,\n",
            "          1.3291e-01, -3.5480e-01, -2.8174e-01,  3.6236e-01, -6.1872e-02],\n",
            "        [-9.2304e-08, -1.4643e-07, -4.5499e-08,  1.3237e-07,  1.8077e-08,\n",
            "         -1.5075e-07, -1.2878e-07, -9.8863e-08, -3.3822e-08,  7.2938e-08,\n",
            "         -1.3684e-08, -2.6059e-09,  7.8116e-08, -3.8252e-08,  1.3965e-07,\n",
            "          7.1158e-08, -1.8995e-07, -1.5084e-07,  1.9400e-07, -3.3125e-08],\n",
            "        [-6.8305e-06, -1.0836e-05, -3.3670e-06,  9.7956e-06,  1.3377e-06,\n",
            "         -1.1156e-05, -9.5298e-06, -7.3159e-06, -2.5028e-06,  5.3974e-06,\n",
            "         -1.0126e-06, -1.9283e-07,  5.7806e-06, -2.8306e-06,  1.0334e-05,\n",
            "          5.2657e-06, -1.4056e-05, -1.1162e-05,  1.4356e-05, -2.4512e-06],\n",
            "        [-1.2673e-03, -2.0104e-03, -6.2468e-04,  1.8174e-03,  2.4819e-04,\n",
            "         -2.0697e-03, -1.7681e-03, -1.3573e-03, -4.6436e-04,  1.0014e-03,\n",
            "         -1.8787e-04, -3.5777e-05,  1.0725e-03, -5.2517e-04,  1.9173e-03,\n",
            "          9.7696e-04, -2.6079e-03, -2.0709e-03,  2.6635e-03, -4.5478e-04],\n",
            "        [-7.3843e-07, -1.1714e-06, -3.6400e-07,  1.0590e-06,  1.4462e-07,\n",
            "         -1.2060e-06, -1.0303e-06, -7.9091e-07, -2.7058e-07,  5.8351e-07,\n",
            "         -1.0947e-07, -2.0847e-08,  6.2493e-07, -3.0602e-07,  1.1172e-06,\n",
            "          5.6927e-07, -1.5196e-06, -1.2067e-06,  1.5520e-06, -2.6500e-07],\n",
            "        [-0.0000e+00, -0.0000e+00, -0.0000e+00,  0.0000e+00,  0.0000e+00,\n",
            "         -0.0000e+00, -0.0000e+00, -0.0000e+00, -0.0000e+00,  0.0000e+00,\n",
            "         -0.0000e+00, -0.0000e+00,  0.0000e+00, -0.0000e+00,  0.0000e+00,\n",
            "          0.0000e+00, -0.0000e+00, -0.0000e+00,  0.0000e+00, -0.0000e+00],\n",
            "        [-2.5660e-05, -4.0707e-05, -1.2649e-05,  3.6799e-05,  5.0254e-06,\n",
            "         -4.1909e-05, -3.5801e-05, -2.7484e-05, -9.4024e-06,  2.0277e-05,\n",
            "         -3.8042e-06, -7.2443e-07,  2.1716e-05, -1.0634e-05,  3.8823e-05,\n",
            "          1.9782e-05, -5.2806e-05, -4.1933e-05,  5.3932e-05, -9.2086e-06],\n",
            "        [-7.7418e-01, -1.2281e+00, -3.8162e-01,  1.1102e+00,  1.5162e-01,\n",
            "         -1.2644e+00, -1.0801e+00, -8.2919e-01, -2.8367e-01,  6.1175e-01,\n",
            "         -1.1477e-01, -2.1856e-02,  6.5518e-01, -3.2083e-01,  1.1713e+00,\n",
            "          5.9682e-01, -1.5932e+00, -1.2651e+00,  1.6271e+00, -2.7782e-01],\n",
            "        [-2.8837e-01, -4.5746e-01, -1.4215e-01,  4.1355e-01,  5.6475e-02,\n",
            "         -4.7097e-01, -4.0233e-01, -3.0886e-01, -1.0566e-01,  2.2787e-01,\n",
            "         -4.2751e-02, -8.1411e-03,  2.4405e-01, -1.1950e-01,  4.3629e-01,\n",
            "          2.2231e-01, -5.9343e-01, -4.7124e-01,  6.0609e-01, -1.0349e-01]]) tensor([[-0.0000e+00, -0.0000e+00,  0.0000e+00, -0.0000e+00,  0.0000e+00,\n",
            "         -0.0000e+00,  0.0000e+00,  0.0000e+00,  0.0000e+00,  0.0000e+00],\n",
            "        [-4.2753e-04, -3.3674e-03,  3.1035e-03, -2.1916e-03,  4.9804e-03,\n",
            "         -5.4677e-04,  9.0219e-03,  7.2302e-03,  1.4589e-03,  4.7180e-04],\n",
            "        [-4.5964e-06, -3.6203e-05,  3.3366e-05, -2.3562e-05,  5.3543e-05,\n",
            "         -5.8783e-06,  9.6994e-05,  7.7731e-05,  1.5684e-05,  5.0722e-06],\n",
            "        [-1.8391e-03, -1.4485e-02,  1.3350e-02, -9.4275e-03,  2.1424e-02,\n",
            "         -2.3520e-03,  3.8809e-02,  3.1102e-02,  6.2757e-03,  2.0295e-03],\n",
            "        [-1.7953e-06, -1.4140e-05,  1.3032e-05, -9.2028e-06,  2.0913e-05,\n",
            "         -2.2960e-06,  3.7884e-05,  3.0360e-05,  6.1261e-06,  1.9811e-06],\n",
            "        [-5.2584e-06, -4.1418e-05,  3.8172e-05, -2.6956e-05,  6.1256e-05,\n",
            "         -6.7250e-06,  1.1096e-04,  8.8927e-05,  1.7944e-05,  5.8028e-06],\n",
            "        [-7.7003e-03, -6.0651e-02,  5.5897e-02, -3.9473e-02,  8.9701e-02,\n",
            "         -9.8479e-03,  1.6249e-01,  1.3022e-01,  2.6276e-02,  8.4975e-03],\n",
            "        [-5.3417e-04, -4.2073e-03,  3.8776e-03, -2.7382e-03,  6.2226e-03,\n",
            "         -6.8315e-04,  1.1272e-02,  9.0335e-03,  1.8228e-03,  5.8947e-04],\n",
            "        [-0.0000e+00, -0.0000e+00,  0.0000e+00, -0.0000e+00,  0.0000e+00,\n",
            "         -0.0000e+00,  0.0000e+00,  0.0000e+00,  0.0000e+00,  0.0000e+00],\n",
            "        [-4.0414e-04, -3.1832e-03,  2.9337e-03, -2.0717e-03,  4.7079e-03,\n",
            "         -5.1685e-04,  8.5283e-03,  6.8345e-03,  1.3791e-03,  4.4598e-04],\n",
            "        [-1.7825e-07, -1.4040e-06,  1.2940e-06, -9.1376e-07,  2.0765e-06,\n",
            "         -2.2797e-07,  3.7616e-06,  3.0145e-06,  6.0827e-07,  1.9671e-07],\n",
            "        [-2.3782e-02, -1.8732e-01,  1.7264e-01, -1.2191e-01,  2.7704e-01,\n",
            "         -3.0415e-02,  5.0186e-01,  4.0219e-01,  8.1154e-02,  2.6244e-02],\n",
            "        [-1.2732e-08, -1.0029e-07,  9.2427e-08, -6.5268e-08,  1.4832e-07,\n",
            "         -1.6283e-08,  2.6868e-07,  2.1532e-07,  4.3448e-08,  1.4051e-08],\n",
            "        [-9.4220e-07, -7.4211e-06,  6.8395e-06, -4.8298e-06,  1.0976e-05,\n",
            "         -1.2050e-06,  1.9883e-05,  1.5934e-05,  3.2151e-06,  1.0397e-06],\n",
            "        [-1.7481e-04, -1.3769e-03,  1.2690e-03, -8.9609e-04,  2.0364e-03,\n",
            "         -2.2356e-04,  3.6889e-03,  2.9562e-03,  5.9651e-04,  1.9291e-04],\n",
            "        [-1.0186e-07, -8.0229e-07,  7.3941e-07, -5.2215e-07,  1.1866e-06,\n",
            "         -1.3027e-07,  2.1495e-06,  1.7226e-06,  3.4758e-07,  1.1241e-07],\n",
            "        [-0.0000e+00, -0.0000e+00,  0.0000e+00, -0.0000e+00,  0.0000e+00,\n",
            "         -0.0000e+00,  0.0000e+00,  0.0000e+00,  0.0000e+00,  0.0000e+00],\n",
            "        [-3.5396e-06, -2.7879e-05,  2.5694e-05, -1.8144e-05,  4.1233e-05,\n",
            "         -4.5268e-06,  7.4693e-05,  5.9859e-05,  1.2078e-05,  3.9060e-06],\n",
            "        [-1.0679e-01, -8.4112e-01,  7.7520e-01, -5.4742e-01,  1.2440e+00,\n",
            "         -1.3657e-01,  2.2535e+00,  1.8060e+00,  3.6441e-01,  1.1785e-01],\n",
            "        [-3.9778e-02, -3.1331e-01,  2.8875e-01, -2.0391e-01,  4.6338e-01,\n",
            "         -5.0872e-02,  8.3940e-01,  6.7270e-01,  1.3574e-01,  4.3896e-02]]) tensor(-0.6230, grad_fn=<SumBackward0>)\n"
          ]
        }
      ]
    },
    {
      "cell_type": "markdown",
      "source": [
        "# <b> 2. Model"
      ],
      "metadata": {
        "id": "O8JjjXkMsnSx"
      }
    },
    {
      "cell_type": "code",
      "source": [
        "class LeNet(nn.Module):\n",
        "  def __init__(self):\n",
        "    super().__init__() # or super(LeNet, self).__init__()\n",
        "\n",
        "    # 1 input image channel (black & white), 6 output channels, 5x5 square convolution\n",
        "    self.conv1 = nn.Conv2d(1, 6, 5)\n",
        "    self.conv2 = nn.Conv2d(6, 16, 5)\n",
        "    # an affine operation: y = Wx + b\n",
        "    self.fc1 = nn.Linear(16*5*5, 120) # 5*5 from image dimension\n",
        "    self.fc2 = nn.Linear(120, 84)\n",
        "    self.fc3 = nn.Linear(84, 10)\n",
        "\n",
        "  def forward(self, x):\n",
        "    # Max pooling over a (2, 2) window\n",
        "    x = F.max_pool2d(F.relu(self.conv1(x)), 2)\n",
        "    x = F.max_pool2d(F.relu(self.conv2(x)), 2)\n",
        "    x = x.view(-1, self.num_flat_features(x))\n",
        "    x = F.relu(self.fc1(x))\n",
        "    x = F.relu(self.fc2(x))\n",
        "    x = self.fc3(x)\n",
        "    return x\n",
        "\n",
        "  def num_flat_features(self, x):\n",
        "    size = x.size()[1:] # all dimensions except the batch dimension\n",
        "    num_features = 1\n",
        "    for s in size:\n",
        "      num_features *= s\n",
        "    return num_features"
      ],
      "metadata": {
        "id": "OcUQo-cpiW2f"
      },
      "execution_count": 8,
      "outputs": []
    },
    {
      "cell_type": "code",
      "source": [
        "net = LeNet()\n",
        "print(net)\n",
        "\n",
        "input = torch.rand(1, 1, 32, 32) # stand-in for a 32x32 black & white image\n",
        "print(f\"input shape: {input.shape}\")\n",
        "\n",
        "output = net(input)\n",
        "print(f\"output of the model: {output} \\n\")\n",
        "print(f\"shape of the output: {output.shape}\")\n",
        "\n",
        "# Looking at the shape of output, we can see that it also has a batch dimension, the size of which should always match the input batch dimension.\n",
        "# i.e., if we had passed in an input batch of 16 instances, output would have a shape of (16, 10)."
      ],
      "metadata": {
        "colab": {
          "base_uri": "https://localhost:8080/"
        },
        "id": "mz_ure0rpp-I",
        "outputId": "ba9f2059-2d51-4177-92e5-00c674202c0e"
      },
      "execution_count": 9,
      "outputs": [
        {
          "output_type": "stream",
          "name": "stdout",
          "text": [
            "LeNet(\n",
            "  (conv1): Conv2d(1, 6, kernel_size=(5, 5), stride=(1, 1))\n",
            "  (conv2): Conv2d(6, 16, kernel_size=(5, 5), stride=(1, 1))\n",
            "  (fc1): Linear(in_features=400, out_features=120, bias=True)\n",
            "  (fc2): Linear(in_features=120, out_features=84, bias=True)\n",
            "  (fc3): Linear(in_features=84, out_features=10, bias=True)\n",
            ")\n",
            "input shape: torch.Size([1, 1, 32, 32])\n",
            "output of the model: tensor([[ 0.0238, -0.0180, -0.1051, -0.0325,  0.0500,  0.0794, -0.0247,  0.0822,\n",
            "         -0.0630,  0.0572]], grad_fn=<AddmmBackward0>) \n",
            "\n",
            "shape of the output: torch.Size([1, 10])\n"
          ]
        }
      ]
    },
    {
      "cell_type": "markdown",
      "source": [
        "# <b> 3. Datasets & DataLoaders:"
      ],
      "metadata": {
        "id": "gtOPYfdBsvQ8"
      }
    },
    {
      "cell_type": "code",
      "source": [
        "%matplotlib inline\n",
        "\n",
        "import torch\n",
        "import torchvision\n",
        "import torchvision.transforms as transforms\n",
        "\n",
        "# for visualizing some of the data:\n",
        "import matplotlib.pyplot as plt\n",
        "import numpy as np"
      ],
      "metadata": {
        "id": "LNJHLjlXqKL6"
      },
      "execution_count": 10,
      "outputs": []
    },
    {
      "cell_type": "code",
      "source": [
        "transform = transforms.Compose([\n",
        "    transforms.ToTensor(),\n",
        "    transforms.Normalize((0.4914, 0.4822, 0.4465), (0.2470, 0.2435, 0.2616))\n",
        "])\n",
        "\n",
        "# transforms.Normalize():\n",
        "# adjusts the values of the tensor so that their average is zero and their standard deviation is 1.0.\n",
        "# Most activation functions have their strongest gradients around x = 0, so centering our data there can speed learning.\n",
        "# The values passed to the transform are the means (first tuple) and the standard deviations (second tuple) of the rgb values of the images in the dataset."
      ],
      "metadata": {
        "id": "aajhBdA7qKNv"
      },
      "execution_count": 11,
      "outputs": []
    },
    {
      "cell_type": "code",
      "source": [
        "trainset = torchvision.datasets.CIFAR10(root=\"./data\", train=True, download=True, transform=transform)\n",
        "\n",
        "trainloader = torch.utils.data.DataLoader(trainset, batch_size=4, shuffle=True, num_workers=2)"
      ],
      "metadata": {
        "id": "QzWon_7zqKQK",
        "colab": {
          "base_uri": "https://localhost:8080/"
        },
        "outputId": "fa5c95d2-7eda-46a6-e001-9e88d07977e0"
      },
      "execution_count": 12,
      "outputs": [
        {
          "output_type": "stream",
          "name": "stderr",
          "text": [
            "100%|██████████| 170M/170M [00:12<00:00, 13.2MB/s]\n"
          ]
        }
      ]
    },
    {
      "cell_type": "code",
      "source": [
        "classes = ('plane', 'car', 'bird', 'cat', 'deer', 'dog', 'frog', 'horse', 'ship', 'truck')\n",
        "\n",
        "def imshow(img):\n",
        "  img = img / 2 + 0.5 # unnormalize\n",
        "  npimg = img.numpy()\n",
        "  plt.imshow(np.transpose(npimg, (1, 2, 0)))\n",
        "\n",
        "# get some random training images\n",
        "dataiter = iter(trainloader)\n",
        "images, labels = next(dataiter) # images are of size 32*32, rgb, and we chose 4 batches: torch.Size([4, 3, 32, 32]) and the labels are of size: torch.Size([4])\n",
        "\n",
        "# show the images:\n",
        "imshow(torchvision.utils.make_grid(images))\n",
        "# print labels:\n",
        "print(' '.join('%5s' % classes[labels[j]] for j in range(4)))"
      ],
      "metadata": {
        "id": "XY1OzF11qKSh",
        "colab": {
          "base_uri": "https://localhost:8080/",
          "height": 228
        },
        "outputId": "7fdf9e34-341d-449a-ab0a-f0806eb6cd75"
      },
      "execution_count": 13,
      "outputs": [
        {
          "output_type": "stream",
          "name": "stderr",
          "text": [
            "WARNING:matplotlib.image:Clipping input data to the valid range for imshow with RGB data ([0..1] for floats or [0..255] for integers). Got range [-0.49473685..1.5632443].\n"
          ]
        },
        {
          "output_type": "stream",
          "name": "stdout",
          "text": [
            " frog  ship horse   cat\n"
          ]
        },
        {
          "output_type": "display_data",
          "data": {
            "text/plain": [
              "<Figure size 640x480 with 1 Axes>"
            ],
            "image/png": "[encoded data removed]"
          },
          "metadata": {}
        }
      ]
    },
    {
      "cell_type": "markdown",
      "source": [
        "# <b>4. Training the model:"
      ],
      "metadata": {
        "id": "RXDwRkQerU-a"
      }
    },
    {
      "cell_type": "markdown",
      "source": [
        "#### 1. The data:"
      ],
      "metadata": {
        "id": "Mr8mKJH7Q4jH"
      }
    },
    {
      "cell_type": "code",
      "source": [
        "# prepare the data: (we'l do it again since the previous section was for practice)\n",
        "\n",
        "transform = transforms.Compose([\n",
        "    transforms.ToTensor(),\n",
        "    transforms.Normalize((0.5, 0.5, 0.5), (0.5, 0.5, 0.5))\n",
        "])\n",
        "\n",
        "trainset = torchvision.datasets.CIFAR10(root=\"./data\", train=True, transform=transform, download=True)\n",
        "trainloader = torch.utils.data.DataLoader(trainset, batch_size=4, shuffle=True, num_workers=2)\n",
        "\n",
        "testset = torchvision.datasets.CIFAR10(root=\"./data\", train=False, download=True, transform=transform)\n",
        "testloader = torch.utils.data.DataLoader(testset, batch_size=4, shuffle=False, num_workers=2)\n",
        "\n",
        "classes = ('plane', 'car', 'bird', 'cat',\n",
        "           'deer', 'dog', 'frog', 'horse', 'ship', 'truck')"
      ],
      "metadata": {
        "id": "0Z90tELmdUkA"
      },
      "execution_count": 14,
      "outputs": []
    },
    {
      "cell_type": "code",
      "source": [
        "# again, show an example image:\n",
        "\n",
        "images_, labels_ = next(iter(testloader)) #or on trainloader\n",
        "imshow(torchvision.utils.make_grid(images_))\n",
        "print(labels_[j] for j in range(4))\n",
        "print(' '.join('%5s' % classes[labels[j]] for j in range(4)))"
      ],
      "metadata": {
        "colab": {
          "base_uri": "https://localhost:8080/",
          "height": 228
        },
        "id": "CtSHpgAcdUmO",
        "outputId": "943c7721-224c-4c11-d06d-ef08b4a345f9"
      },
      "execution_count": 15,
      "outputs": [
        {
          "output_type": "stream",
          "name": "stdout",
          "text": [
            "<generator object <genexpr> at 0x7a0f924a0450>\n",
            " frog  ship horse   cat\n"
          ]
        },
        {
          "output_type": "display_data",
          "data": {
            "text/plain": [
              "<Figure size 640x480 with 1 Axes>"
            ],
            "image/png": "[encoded data removed]"
          },
          "metadata": {}
        }
      ]
    },
    {
      "cell_type": "code",
      "source": [
        "images_[0]"
      ],
      "metadata": {
        "colab": {
          "base_uri": "https://localhost:8080/"
        },
        "id": "WwsrlfUeSPPN",
        "outputId": "1f923824-fe10-4a3b-f428-c6b64ddbd590"
      },
      "execution_count": 16,
      "outputs": [
        {
          "output_type": "execute_result",
          "data": {
            "text/plain": [
              "tensor([[[ 0.2392,  0.2471,  0.2941,  ...,  0.0745, -0.0118, -0.0902],\n",
              "         [ 0.1922,  0.1843,  0.2471,  ...,  0.0667, -0.0196, -0.0667],\n",
              "         [ 0.1843,  0.1843,  0.2392,  ...,  0.0902,  0.0196, -0.0588],\n",
              "         ...,\n",
              "         [-0.4667, -0.6706, -0.7569,  ..., -0.7020, -0.8980, -0.6863],\n",
              "         [-0.5216, -0.6157, -0.7255,  ..., -0.7961, -0.7725, -0.8431],\n",
              "         [-0.5765, -0.5608, -0.6471,  ..., -0.8118, -0.7333, -0.8353]],\n",
              "\n",
              "        [[-0.1216, -0.1294, -0.0902,  ..., -0.2549, -0.2863, -0.3333],\n",
              "         [-0.1216, -0.1373, -0.1059,  ..., -0.2549, -0.2863, -0.3098],\n",
              "         [-0.1373, -0.1451, -0.1294,  ..., -0.2314, -0.2549, -0.3020],\n",
              "         ...,\n",
              "         [-0.0275, -0.2157, -0.3098,  ..., -0.2392, -0.4980, -0.3333],\n",
              "         [-0.0902, -0.2000, -0.3333,  ..., -0.3569, -0.3569, -0.4980],\n",
              "         [-0.1608, -0.1765, -0.3020,  ..., -0.3961, -0.3412, -0.4745]],\n",
              "\n",
              "        [[-0.6157, -0.6314, -0.6000,  ..., -0.7176, -0.7176, -0.7412],\n",
              "         [-0.6000, -0.6863, -0.6471,  ..., -0.7569, -0.7490, -0.7333],\n",
              "         [-0.6314, -0.7412, -0.7176,  ..., -0.7333, -0.7333, -0.7412],\n",
              "         ...,\n",
              "         [ 0.3882,  0.1608,  0.0745,  ...,  0.1451, -0.1529, -0.0039],\n",
              "         [ 0.3176,  0.1608,  0.0353,  ...,  0.0196, -0.0118, -0.1608],\n",
              "         [ 0.2549,  0.1686,  0.0353,  ..., -0.0275,  0.0118, -0.1373]]])"
            ]
          },
          "metadata": {},
          "execution_count": 16
        }
      ]
    },
    {
      "cell_type": "markdown",
      "source": [
        "#### 2. The model:"
      ],
      "metadata": {
        "id": "4tBk8-zrRCWJ"
      }
    },
    {
      "cell_type": "code",
      "source": [
        "class Net(nn.Module):\n",
        "  def __init__(self):\n",
        "    super().__init__()\n",
        "    self.conv1 = nn.Conv2d(3, 6, 5)\n",
        "    self.pool = nn.MaxPool2d(2, 2) # or: 2\n",
        "    self.conv2 = nn.Conv2d(6, 16, 5)\n",
        "    self.fc1 = nn.Linear(16*5*5, 120)\n",
        "    self.fc2 = nn.Linear(120, 84)\n",
        "    self.fc3 = nn.Linear(84, 10)\n",
        "\n",
        "  def forward(self, x):\n",
        "    x = self.pool(F.relu(self.conv1(x)))\n",
        "    x = self.pool(F.relu(self.conv2(x)))\n",
        "    x = x.view(-1, 16*5*5)\n",
        "    x = F.relu(self.fc1(x))\n",
        "    x = F.relu(self.fc2(x))\n",
        "    x = self.fc3(x)\n",
        "    return x\n",
        "\n",
        "net = Net()\n",
        "\n",
        "criterion = nn.CrossEntropyLoss() # loss\n",
        "optimizer = optim.SGD(net.parameters(), lr=0.001, momentum=0.9)"
      ],
      "metadata": {
        "id": "sW2zwuMURB8o"
      },
      "execution_count": 17,
      "outputs": []
    },
    {
      "cell_type": "markdown",
      "source": [
        "#### 3. The training loop:"
      ],
      "metadata": {
        "id": "5FjMmhLpWF4h"
      }
    },
    {
      "cell_type": "code",
      "source": [
        "num_epochs = 2\n",
        "for epoch in range(num_epochs):\n",
        "\n",
        "  running_loss = 0.0\n",
        "\n",
        "  # making batches:\n",
        "  for batch_id, data in enumerate(trainloader, 0): # or tuple (X, y) instead of 'data'\n",
        "    inputs, labels = data # or X, y\n",
        "\n",
        "    # zeroing the previous gradients:\n",
        "    optimizer.zero_grad()\n",
        "\n",
        "    # net.train()\n",
        "\n",
        "    outputs = net(inputs) # forward\n",
        "    loss = criterion(outputs, labels) # calculating loss\n",
        "    loss.backward() # backward\n",
        "    optimizer.step() # optimization\n",
        "\n",
        "    # printing the statistics:\n",
        "    running_loss += loss.item()\n",
        "    if batch_id % 2000 == 1999:\n",
        "      print(f\"[{epoch+1:d}, {batch_id+1:5d}] loss: {running_loss/2000:.3f}\")\n",
        "      running_loss = 0.0\n",
        "\n",
        "print(\"Finiished Training!\")"
      ],
      "metadata": {
        "colab": {
          "base_uri": "https://localhost:8080/"
        },
        "id": "FcfYOLwJRB--",
        "outputId": "48a308d5-d083-4a84-8988-8528afaf7fdd"
      },
      "execution_count": 23,
      "outputs": [
        {
          "output_type": "stream",
          "name": "stdout",
          "text": [
            "[1,  2000] loss: 2.127\n",
            "[1,  4000] loss: 1.764\n",
            "[1,  6000] loss: 1.621\n",
            "[1,  8000] loss: 1.545\n",
            "[1, 10000] loss: 1.499\n",
            "[1, 12000] loss: 1.431\n",
            "[2,  2000] loss: 1.370\n",
            "[2,  4000] loss: 1.355\n",
            "[2,  6000] loss: 1.332\n",
            "[2,  8000] loss: 1.294\n",
            "[2, 10000] loss: 1.287\n",
            "[2, 12000] loss: 1.240\n",
            "Finiished Training!\n"
          ]
        }
      ]
    },
    {
      "cell_type": "markdown",
      "source": [
        "# <b>5. Evaluating the model:"
      ],
      "metadata": {
        "id": "V-cJ62P5ejX6"
      }
    },
    {
      "cell_type": "code",
      "source": [
        "correct = 0\n",
        "total = 0\n",
        "\n",
        "with torch.no_grad():\n",
        "  for data in testloader:\n",
        "    images, labels = data\n",
        "\n",
        "    outputs = net(images)\n",
        "    _, predictions = torch.max(outputs.data, 1) # the indeces for max item in each batch of predicted labels\n",
        "    total += labels.size(0)\n",
        "    correct += (predictions == labels).sum().item()\n",
        "\n",
        "print(f\"Accuracy of teh model on the test images: {correct*100/total}%\")"
      ],
      "metadata": {
        "colab": {
          "base_uri": "https://localhost:8080/"
        },
        "id": "Cf-olpv_WKnx",
        "outputId": "ad52104b-de39-4803-872c-e2670263309e"
      },
      "execution_count": 61,
      "outputs": [
        {
          "output_type": "stream",
          "name": "stdout",
          "text": [
            "Accuracy of teh model on the test images: 53.89%\n"
          ]
        }
      ]
    },
    {
      "cell_type": "code",
      "source": [
        "# The result of the accuracy is clearly not the state of teh art, but it was a small practice model."
      ],
      "metadata": {
        "id": "vVJsvSbJgFu2"
      },
      "execution_count": null,
      "outputs": []
    }
  ]
}