{
  "nbformat": 4,
  "nbformat_minor": 0,
  "metadata": {
    "colab": {
      "provenance": [],
      "gpuType": "T4",
      "authorship_tag": "ABX9TyPDE/9QNzbnuqljiLGroqTq",
      "include_colab_link": true
    },
    "kernelspec": {
      "name": "python3",
      "display_name": "Python 3"
    },
    "language_info": {
      "name": "python"
    },
    "accelerator": "GPU"
  },
  "cells": [
    {
      "cell_type": "markdown",
      "metadata": {
        "id": "view-in-github",
        "colab_type": "text"
      },
      "source": [
        "<a href=\"https://colab.research.google.com/github/Tina-Gh/PyTorch/blob/main/PytorchDocumentation/pytorch_03_Tensors.ipynb\" target=\"_parent\"><img src=\"https://colab.research.google.com/assets/colab-badge.svg\" alt=\"Open In Colab\"/></a>"
      ]
    },
    {
      "cell_type": "markdown",
      "source": [
        "## More manipulations of tensors:\n"
      ],
      "metadata": {
        "id": "CfSBsIYcUztn"
      }
    },
    {
      "cell_type": "code",
      "execution_count": null,
      "metadata": {
        "id": "HFOBULLsvkB-"
      },
      "outputs": [],
      "source": [
        "import torch\n",
        "import math"
      ]
    },
    {
      "cell_type": "markdown",
      "source": [
        "## creating some random tensors:"
      ],
      "metadata": {
        "id": "jQgQz_kOqRwe"
      }
    },
    {
      "cell_type": "code",
      "source": [
        "#creating tensors:\n",
        "\n",
        "x = torch.empty(3, 4)\n",
        "print(x)\n",
        "print(type(x))"
      ],
      "metadata": {
        "colab": {
          "base_uri": "https://localhost:8080/"
        },
        "id": "_THNYm-xjjFc",
        "outputId": "f357cd47-3379-4d50-d965-f5999d804caf"
      },
      "execution_count": null,
      "outputs": [
        {
          "output_type": "stream",
          "name": "stdout",
          "text": [
            "tensor([[ 3.3631e-44,  1.7751e+28, -6.6409e+14,  4.4416e-41],\n",
            "        [ 2.8026e-45,  2.0706e-19,  1.1723e-19,  1.3563e-19],\n",
            "        [ 5.6052e-45,  0.0000e+00,  5.6052e-45,  7.0065e-45]])\n",
            "<class 'torch.Tensor'>\n"
          ]
        }
      ]
    },
    {
      "cell_type": "code",
      "source": [
        "#method 1: (using torch factory defined tensors)\n",
        "\n",
        "a = torch.randn(3, 4)\n",
        "print('randn tensor:\\n ', a)\n",
        "\n",
        "torch.manual_seed(8888)\n",
        "b = torch.rand(3, 4)\n",
        "print('rand tensor:\\n ', b)\n",
        "\n",
        "c = torch.zeros(3, 4)\n",
        "print('zeros tensor:\\n ', c)\n",
        "\n",
        "d =torch.ones(3, 4)\n",
        "print('ones tesor:\\n ', d)"
      ],
      "metadata": {
        "colab": {
          "base_uri": "https://localhost:8080/"
        },
        "id": "tZW15dOsjscu",
        "outputId": "2d21ea40-a20b-4882-d85f-0cdf035bed70"
      },
      "execution_count": null,
      "outputs": [
        {
          "output_type": "stream",
          "name": "stdout",
          "text": [
            "randn tensor:\n",
            "  tensor([[ 1.1730, -0.1184, -0.8332, -0.9962],\n",
            "        [-0.4634,  0.2259,  0.7540, -1.4356],\n",
            "        [ 1.6856, -0.0467, -0.5652, -1.0751]])\n",
            "rand tensor:\n",
            "  tensor([[0.3704, 0.9766, 0.7204, 0.8029],\n",
            "        [0.2201, 0.5525, 0.2689, 0.8670],\n",
            "        [0.0968, 0.9046, 0.2735, 0.3837]])\n",
            "zeros tensor:\n",
            "  tensor([[0., 0., 0., 0.],\n",
            "        [0., 0., 0., 0.],\n",
            "        [0., 0., 0., 0.]])\n",
            "ones tesor:\n",
            "  tensor([[1., 1., 1., 1.],\n",
            "        [1., 1., 1., 1.],\n",
            "        [1., 1., 1., 1.]])\n"
          ]
        }
      ]
    },
    {
      "cell_type": "code",
      "source": [
        "#method 2: (using torch.*_like())\n",
        "\n",
        "x = torch.empty(2, 2, 3)\n",
        "print(x)\n",
        "print(x.shape)\n",
        "\n",
        "empty_like_x = torch.empty_like(x)\n",
        "print('\\n', empty_like_x)\n",
        "print(empty_like_x.shape)\n",
        "\n",
        "zeros_like_x = torch.zeros_like(x)\n",
        "print('\\n', zeros_like_x)\n",
        "print(zeros_like_x.shape)\n",
        "\n",
        "ones_like_x = torch.ones_like(x)\n",
        "print('\\n', ones_like_x)\n",
        "print(ones_like_x.shape)\n",
        "\n",
        "rand_like_x = torch.rand_like(x)\n",
        "print('\\n', rand_like_x)\n",
        "print(rand_like_x.shape)"
      ],
      "metadata": {
        "colab": {
          "base_uri": "https://localhost:8080/"
        },
        "id": "iuB86VCgjxJz",
        "outputId": "b10c96a9-c350-4fbc-e8b5-7da1b133cd00"
      },
      "execution_count": null,
      "outputs": [
        {
          "output_type": "stream",
          "name": "stdout",
          "text": [
            "tensor([[[ 0.0000e+00,  0.0000e+00, -1.1271e+29],\n",
            "         [ 3.1866e-41, -1.7126e+28,  3.1866e-41]],\n",
            "\n",
            "        [[-1.1106e-26,  4.4416e-41,  1.4013e-45],\n",
            "         [ 0.0000e+00,  1.6816e-44,  0.0000e+00]]])\n",
            "torch.Size([2, 2, 3])\n",
            "\n",
            " tensor([[[ 1.4013e-45,  0.0000e+00,  0.0000e+00],\n",
            "         [ 0.0000e+00,  0.0000e+00,  0.0000e+00]],\n",
            "\n",
            "        [[ 1.5835e-43,  0.0000e+00, -1.1288e+29],\n",
            "         [ 3.1866e-41, -1.0448e+15,  4.4416e-41]]])\n",
            "torch.Size([2, 2, 3])\n",
            "\n",
            " tensor([[[0., 0., 0.],\n",
            "         [0., 0., 0.]],\n",
            "\n",
            "        [[0., 0., 0.],\n",
            "         [0., 0., 0.]]])\n",
            "torch.Size([2, 2, 3])\n",
            "\n",
            " tensor([[[1., 1., 1.],\n",
            "         [1., 1., 1.]],\n",
            "\n",
            "        [[1., 1., 1.],\n",
            "         [1., 1., 1.]]])\n",
            "torch.Size([2, 2, 3])\n",
            "\n",
            " tensor([[[0.9538, 0.9426, 0.9787],\n",
            "         [0.8919, 0.5594, 0.8498]],\n",
            "\n",
            "        [[0.4982, 0.1720, 0.9360],\n",
            "         [0.2075, 0.8987, 0.0079]]])\n",
            "torch.Size([2, 2, 3])\n"
          ]
        }
      ]
    },
    {
      "cell_type": "code",
      "source": [
        "#method 3: (using torch.tensor(()) or torch.tensor([]))\n",
        "\n",
        "# some_constants = torch.tensor()\n",
        "\n",
        "some_integers = torch.tensor((1, 2, 3, 4, 5, 6, 7, 8, 9))\n",
        "print('\\n', some_integers)\n",
        "print(some_integers.shape)\n",
        "\n",
        "more_integers = torch.tensor(((2, 4, 6), (3, 6, 9))) #or using [] instead of() for each element.\n",
        "print('\\n', more_integers)\n",
        "print(more_integers.shape)"
      ],
      "metadata": {
        "colab": {
          "base_uri": "https://localhost:8080/"
        },
        "id": "6bxOi3oyjxMT",
        "outputId": "180d7e96-d918-41f7-db39-d185dc02e6a5"
      },
      "execution_count": null,
      "outputs": [
        {
          "output_type": "stream",
          "name": "stdout",
          "text": [
            "\n",
            " tensor([1, 2, 3, 4, 5, 6, 7, 8, 9])\n",
            "torch.Size([9])\n",
            "\n",
            " tensor([[2, 4, 6],\n",
            "        [3, 6, 9]])\n",
            "torch.Size([2, 3])\n"
          ]
        }
      ]
    },
    {
      "cell_type": "markdown",
      "source": [
        "## Tensor data types:"
      ],
      "metadata": {
        "id": "ewPHoL7oDfyi"
      }
    },
    {
      "cell_type": "code",
      "source": [
        "a = torch.ones((2, 3), dtype=torch.int16)\n",
        "print(a)\n",
        "\n",
        "b = torch.rand((2, 3), dtype=torch.float64) * 20\n",
        "print(b)\n",
        "\n",
        "c = b.to(torch.int32)\n",
        "print(c)"
      ],
      "metadata": {
        "colab": {
          "base_uri": "https://localhost:8080/"
        },
        "id": "6cVsaB3xjxO7",
        "outputId": "1d98c3a7-e3d1-4e51-80ac-477bc21247e7"
      },
      "execution_count": null,
      "outputs": [
        {
          "output_type": "stream",
          "name": "stdout",
          "text": [
            "tensor([[1, 1, 1],\n",
            "        [1, 1, 1]], dtype=torch.int16)\n",
            "tensor([[ 8.5091, 11.5893,  2.3249],\n",
            "        [19.4933, 18.2966, 10.3135]], dtype=torch.float64)\n",
            "tensor([[ 8, 11,  2],\n",
            "        [19, 18, 10]], dtype=torch.int32)\n"
          ]
        }
      ]
    },
    {
      "cell_type": "markdown",
      "source": [
        "## Broadcasting:"
      ],
      "metadata": {
        "id": "1zOKJCYhQDtm"
      }
    },
    {
      "cell_type": "code",
      "source": [
        "#using *\n",
        "# even multiplying tensors of different shapes"
      ],
      "metadata": {
        "id": "zzyFUuipQHu5"
      },
      "execution_count": null,
      "outputs": []
    },
    {
      "cell_type": "markdown",
      "source": [
        "## in-place arithmatic function:"
      ],
      "metadata": {
        "id": "vFGOuYOhQA0-"
      }
    },
    {
      "cell_type": "code",
      "source": [
        "#adding '_' to arithmatic operations make it so that the original variable is updated in the sam eexisting allocated memory space,\n",
        "#instead of allocating new space in memory to the new variable.\n",
        "#example:\n",
        "\n",
        "a = torch.ones(2, 3)\n",
        "b = torch.ones(2, 3)\n",
        "\n",
        "print(a)\n",
        "print(a.add(b))\n",
        "print(a)\n",
        "\n",
        "print('\\n')\n",
        "print(a)\n",
        "print(a.add_(b))\n",
        "print(a) #as can be see, the value of a is updated in the same memory space.\n",
        "\n",
        "#you can also achieve a similar thing using parameter 'out' in the arithmatic function."
      ],
      "metadata": {
        "colab": {
          "base_uri": "https://localhost:8080/"
        },
        "id": "yKR_W2vXt4_g",
        "outputId": "7a5712e0-53b2-406b-bdac-601215ebb29e"
      },
      "execution_count": null,
      "outputs": [
        {
          "output_type": "stream",
          "name": "stdout",
          "text": [
            "tensor([[1., 1., 1.],\n",
            "        [1., 1., 1.]])\n",
            "tensor([[2., 2., 2.],\n",
            "        [2., 2., 2.]])\n",
            "tensor([[1., 1., 1.],\n",
            "        [1., 1., 1.]])\n",
            "\n",
            "\n",
            "tensor([[1., 1., 1.],\n",
            "        [1., 1., 1.]])\n",
            "tensor([[2., 2., 2.],\n",
            "        [2., 2., 2.]])\n",
            "tensor([[2., 2., 2.],\n",
            "        [2., 2., 2.]])\n"
          ]
        }
      ]
    },
    {
      "cell_type": "markdown",
      "source": [
        "## Copying tensors:"
      ],
      "metadata": {
        "id": "F2RZWImpp_4W"
      }
    },
    {
      "cell_type": "code",
      "source": [
        "# the same copy with the original changing: a = b\n",
        "# but a cloned copy that doesn't change teh original: b = a.clone()\n"
      ],
      "metadata": {
        "id": "08uczgxkVZ4d"
      },
      "execution_count": null,
      "outputs": []
    },
    {
      "cell_type": "code",
      "source": [
        "a = torch.ones(2, 2)\n",
        "b = a.clone()\n",
        "\n",
        "assert b is not a\n",
        "print(torch.eq(a, b))\n",
        "\n",
        "a[0][1] = 561\n",
        "print(b)"
      ],
      "metadata": {
        "colab": {
          "base_uri": "https://localhost:8080/"
        },
        "id": "mVJE2I0cn95c",
        "outputId": "d48cd3b4-a03f-48b6-8082-4a6e90c66a12"
      },
      "execution_count": null,
      "outputs": [
        {
          "output_type": "stream",
          "name": "stdout",
          "text": [
            "tensor([[True, True],\n",
            "        [True, True]])\n",
            "tensor([[1., 1.],\n",
            "        [1., 1.]])\n"
          ]
        }
      ]
    },
    {
      "cell_type": "code",
      "source": [
        "#Autograd\n",
        "#requires_grad = True\n",
        "#detach().clone()\n",
        "\n",
        "a = torch.rand(2, 2, requires_grad=True)\n",
        "b = a.clone()\n",
        "c = a.detach.clone()"
      ],
      "metadata": {
        "id": "yauTcfnDn-L7"
      },
      "execution_count": null,
      "outputs": []
    },
    {
      "cell_type": "markdown",
      "source": [
        "## Moving to GPU:"
      ],
      "metadata": {
        "id": "9iXLyMRwsDyj"
      }
    },
    {
      "cell_type": "code",
      "source": [
        "#hardware requirement: GPU and teh drivers should already be set up."
      ],
      "metadata": {
        "id": "W6ed2ViMoalm"
      },
      "execution_count": null,
      "outputs": []
    },
    {
      "cell_type": "code",
      "source": [
        "if torch.cuda.is_available():\n",
        "  print('We have a GPU.')\n",
        "else:\n",
        "  print('No GPUs found.')"
      ],
      "metadata": {
        "colab": {
          "base_uri": "https://localhost:8080/"
        },
        "id": "EmG9hOgcsOpz",
        "outputId": "bd20fcd2-c499-4dd1-d65d-7a177e1d9cfe"
      },
      "execution_count": null,
      "outputs": [
        {
          "output_type": "stream",
          "name": "stdout",
          "text": [
            "We have a GPU.\n"
          ]
        }
      ]
    },
    {
      "cell_type": "code",
      "source": [
        "#then, we should move the data to memory accessible by the GPU:\n",
        "\n",
        "if torch.cuda.is_available():\n",
        "  gpu_rand = torch.rand(2, 2, device='cuda')\n",
        "  print(gpu_rand)\n",
        "else:\n",
        "  print('No GPUs.')"
      ],
      "metadata": {
        "colab": {
          "base_uri": "https://localhost:8080/"
        },
        "id": "oH3Uikt6sOtp",
        "outputId": "ec4a9508-6183-41e1-9647-4ea5f5fd22eb"
      },
      "execution_count": null,
      "outputs": [
        {
          "output_type": "stream",
          "name": "stdout",
          "text": [
            "tensor([[0.4019, 0.3625],\n",
            "        [0.2853, 0.2299]], device='cuda:0')\n"
          ]
        }
      ]
    },
    {
      "cell_type": "code",
      "source": [
        "#querying teh number of available GPUs: torch.cuda.device_count()\n",
        "\n",
        "torch.cuda.device_count()"
      ],
      "metadata": {
        "colab": {
          "base_uri": "https://localhost:8080/"
        },
        "id": "2RjXcPHHsOxK",
        "outputId": "1639da96-f25a-40f8-a6ac-bb07d1b8f6b7"
      },
      "execution_count": null,
      "outputs": [
        {
          "output_type": "execute_result",
          "data": {
            "text/plain": [
              "1"
            ]
          },
          "metadata": {},
          "execution_count": 15
        }
      ]
    },
    {
      "cell_type": "code",
      "source": [
        "if torch.cuda.is_available():\n",
        "  my_device = torch.device('cuda')\n",
        "else:\n",
        "  my_device = torch.device('cpu')\n",
        "print('Device: {}' .format(my_device))\n",
        "\n",
        "a = torch.rand(2, 2, device=my_device)\n",
        "print(a)"
      ],
      "metadata": {
        "colab": {
          "base_uri": "https://localhost:8080/"
        },
        "id": "VmnKBg9Ozm4L",
        "outputId": "01ce7a34-c220-45c1-8a57-b78a0c86a534"
      },
      "execution_count": null,
      "outputs": [
        {
          "output_type": "stream",
          "name": "stdout",
          "text": [
            "Device: cuda\n",
            "tensor([[0.4061, 0.4324],\n",
            "        [0.4927, 0.7431]], device='cuda:0')\n"
          ]
        }
      ]
    },
    {
      "cell_type": "code",
      "source": [
        "#to move an existing tensor from CPU to GPU:\n",
        "\n",
        "y = torch.rand(2, 2) #in CPU\n",
        "#the same as: y = torch.rand(2, 2, device='cpu') or device='cuda'\n",
        "print(y)\n",
        "\n",
        "y = y.to(device=my_device) #in GPU\n",
        "print('\\n', y)"
      ],
      "metadata": {
        "colab": {
          "base_uri": "https://localhost:8080/"
        },
        "id": "QLFqgOvpy-Dc",
        "outputId": "a39eb93a-e7de-400a-cf2f-2952a56d757a"
      },
      "execution_count": null,
      "outputs": [
        {
          "output_type": "stream",
          "name": "stdout",
          "text": [
            "tensor([[0.8375, 0.2433],\n",
            "        [0.1439, 0.7195]], device='cuda:0')\n",
            "\n",
            " tensor([[0.8375, 0.2433],\n",
            "        [0.1439, 0.7195]], device='cuda:0')\n"
          ]
        }
      ]
    },
    {
      "cell_type": "markdown",
      "source": [
        "## changing the tensor dimensions:"
      ],
      "metadata": {
        "id": "43ulzERy18Vh"
      }
    },
    {
      "cell_type": "code",
      "source": [
        "#unsqeeze(0) =  adds a dimension 1 at the begging (could be used for batch making for feeding into the model OR used for broadcasting)\n",
        "\n",
        "#squeeze(0) =  removes teh first dimension if it's 1."
      ],
      "metadata": {
        "id": "kkRo-Bax1RCA"
      },
      "execution_count": null,
      "outputs": []
    },
    {
      "cell_type": "markdown",
      "source": [
        "## Numpy bridge:\n",
        "\n"
      ],
      "metadata": {
        "id": "_JAUR52b4JWU"
      }
    },
    {
      "cell_type": "code",
      "source": [
        "# yet, they will still use the same space in the memory.\n",
        "\n",
        "import numpy as np\n",
        "\n",
        "a_array = np.ones((2, 3))\n",
        "print(a_array)\n",
        "\n",
        "a_tensor = torch.from_numpy(a_array)\n",
        "print('\\n', a_tensor)"
      ],
      "metadata": {
        "colab": {
          "base_uri": "https://localhost:8080/"
        },
        "id": "yiyUVgyA24ky",
        "outputId": "e9148177-154b-49ce-f6f1-56aee44c92e7"
      },
      "execution_count": null,
      "outputs": [
        {
          "output_type": "stream",
          "name": "stdout",
          "text": [
            "[[1. 1. 1.]\n",
            " [1. 1. 1.]]\n",
            "\n",
            " tensor([[1., 1., 1.],\n",
            "        [1., 1., 1.]], dtype=torch.float64)\n"
          ]
        }
      ]
    },
    {
      "cell_type": "code",
      "source": [
        "b_tensor = torch.rand(2, 3)\n",
        "print(b_tensor)\n",
        "\n",
        "b_array = b_tensor.numpy()\n",
        "print('\\n', b_array)"
      ],
      "metadata": {
        "colab": {
          "base_uri": "https://localhost:8080/"
        },
        "id": "UWN6Np9E46f4",
        "outputId": "e1b62267-9904-457d-91af-8a9ff0107a36"
      },
      "execution_count": null,
      "outputs": [
        {
          "output_type": "stream",
          "name": "stdout",
          "text": [
            "tensor([[0.7776, 0.8834, 0.7304],\n",
            "        [0.9187, 0.4427, 0.7559]])\n",
            "\n",
            " [[0.7775574  0.8834339  0.7304397 ]\n",
            " [0.9186924  0.44273615 0.75591505]]\n"
          ]
        }
      ]
    },
    {
      "cell_type": "code",
      "source": [],
      "metadata": {
        "id": "vbeK9Ijh5XSI"
      },
      "execution_count": null,
      "outputs": []
    }
  ]
}