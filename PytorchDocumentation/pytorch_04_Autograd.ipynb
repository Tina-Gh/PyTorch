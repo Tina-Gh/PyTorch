{
  "nbformat": 4,
  "nbformat_minor": 0,
  "metadata": {
    "colab": {
      "provenance": [],
      "gpuType": "V28",
      "authorship_tag": "ABX9TyOMkcCyY+YcIbsicgk1IRro",
      "include_colab_link": true
    },
    "kernelspec": {
      "name": "python3",
      "display_name": "Python 3"
    },
    "language_info": {
      "name": "python"
    },
    "accelerator": "TPU"
  },
  "cells": [
    {
      "cell_type": "markdown",
      "metadata": {
        "id": "view-in-github",
        "colab_type": "text"
      },
      "source": [
        "<a href=\"https://colab.research.google.com/github/Tina-Gh/PyTorch/blob/main/PytorchDocumentation/pytorch_04_Autograd.ipynb\" target=\"_parent\"><img src=\"https://colab.research.google.com/assets/colab-badge.svg\" alt=\"Open In Colab\"/></a>"
      ]
    },
    {
      "cell_type": "markdown",
      "source": [
        "# 1. Autograd:\n",
        "\n",
        "\n",
        "summary:\n",
        "\n",
        "1. you set <b>requires_grad=True</b> in the tensor definition.\n",
        "2. You can check the progression of dependent tensor variables using: <b>.grad_fn</b> and <b>.grad_functions</b>\n",
        "3. To calculate the derivatives of teh leaf node, call <b>.backward()</b> on the output variable. The partial derivative on the leaf node is <b>.grad()</b> on the leaf variable."
      ],
      "metadata": {
        "id": "s8xDYpAkqX0Q"
      }
    },
    {
      "cell_type": "code",
      "execution_count": null,
      "metadata": {
        "id": "wZT2gXtMD9Fo"
      },
      "outputs": [],
      "source": [
        " # for calculating gradients, in ML\n",
        " # where Autograd comes in: it tracks the history of every computation."
      ]
    },
    {
      "cell_type": "code",
      "source": [
        "%matplotlib inline"
      ],
      "metadata": {
        "id": "1ypc4xa8ECcb"
      },
      "execution_count": null,
      "outputs": []
    },
    {
      "cell_type": "code",
      "source": [
        "import torch\n",
        "import torch.nn as nn\n",
        "\n",
        "import matplotlib.pyplot as plt\n",
        "import matplotlib.ticker as ticker\n",
        "import math"
      ],
      "metadata": {
        "id": "3kvlyyu1ECe4"
      },
      "execution_count": null,
      "outputs": []
    },
    {
      "cell_type": "code",
      "source": [
        "a = torch.linspace(0, 2*math.pi, steps=25, requires_grad=True)\n",
        "print(a)"
      ],
      "metadata": {
        "colab": {
          "base_uri": "https://localhost:8080/"
        },
        "id": "ZNFFeUFmEChP",
        "outputId": "fc48c057-4720-4e92-cb71-876cb66f6a6e"
      },
      "execution_count": null,
      "outputs": [
        {
          "output_type": "stream",
          "name": "stdout",
          "text": [
            "tensor([0.0000, 0.2618, 0.5236, 0.7854, 1.0472, 1.3090, 1.5708, 1.8326, 2.0944,\n",
            "        2.3562, 2.6180, 2.8798, 3.1416, 3.4034, 3.6652, 3.9270, 4.1888, 4.4506,\n",
            "        4.7124, 4.9742, 5.2360, 5.4978, 5.7596, 6.0214, 6.2832],\n",
            "       requires_grad=True)\n"
          ]
        }
      ]
    },
    {
      "cell_type": "code",
      "source": [
        "b = torch.sin(a)\n",
        "plt.plot(a.detach(), b.detach()) #we should use .detach() because torch doesn't accept gradients"
      ],
      "metadata": {
        "colab": {
          "base_uri": "https://localhost:8080/",
          "height": 447
        },
        "id": "SekR--AFECkD",
        "outputId": "e21264a7-5bd6-4919-be67-276e2edf18ad"
      },
      "execution_count": null,
      "outputs": [
        {
          "output_type": "execute_result",
          "data": {
            "text/plain": [
              "[<matplotlib.lines.Line2D at 0x7d6d875a3130>]"
            ]
          },
          "metadata": {},
          "execution_count": 5
        },
        {
          "output_type": "display_data",
          "data": {
            "text/plain": [
              "<Figure size 640x480 with 1 Axes>"
            ],
            "image/png": "[encoded data removed]"
          },
          "metadata": {}
        }
      ]
    },
    {
      "cell_type": "code",
      "source": [
        "print(b)"
      ],
      "metadata": {
        "colab": {
          "base_uri": "https://localhost:8080/"
        },
        "id": "NlN0nYh_tRV7",
        "outputId": "78266968-6b77-4439-99b0-a689444ee339"
      },
      "execution_count": null,
      "outputs": [
        {
          "output_type": "stream",
          "name": "stdout",
          "text": [
            "tensor([ 0.0000e+00,  2.5882e-01,  5.0000e-01,  7.0711e-01,  8.6603e-01,\n",
            "         9.6593e-01,  1.0000e+00,  9.6593e-01,  8.6603e-01,  7.0711e-01,\n",
            "         5.0000e-01,  2.5882e-01, -8.7423e-08, -2.5882e-01, -5.0000e-01,\n",
            "        -7.0711e-01, -8.6603e-01, -9.6593e-01, -1.0000e+00, -9.6593e-01,\n",
            "        -8.6603e-01, -7.0711e-01, -5.0000e-01, -2.5882e-01,  1.7485e-07],\n",
            "       grad_fn=<SinBackward0>)\n"
          ]
        }
      ]
    },
    {
      "cell_type": "code",
      "source": [
        "c = 2*b\n",
        "print(c)\n",
        "\n",
        "d = c+1\n",
        "print(d)"
      ],
      "metadata": {
        "colab": {
          "base_uri": "https://localhost:8080/"
        },
        "id": "Cj_XYoZv5h8Y",
        "outputId": "0f47d0c3-0e79-4b56-cda3-aceb953c9933"
      },
      "execution_count": null,
      "outputs": [
        {
          "output_type": "stream",
          "name": "stdout",
          "text": [
            "tensor([ 0.0000e+00,  5.1764e-01,  1.0000e+00,  1.4142e+00,  1.7321e+00,\n",
            "         1.9319e+00,  2.0000e+00,  1.9319e+00,  1.7321e+00,  1.4142e+00,\n",
            "         1.0000e+00,  5.1764e-01, -1.7485e-07, -5.1764e-01, -1.0000e+00,\n",
            "        -1.4142e+00, -1.7321e+00, -1.9319e+00, -2.0000e+00, -1.9319e+00,\n",
            "        -1.7321e+00, -1.4142e+00, -1.0000e+00, -5.1764e-01,  3.4969e-07],\n",
            "       grad_fn=<MulBackward0>)\n",
            "tensor([ 1.0000e+00,  1.5176e+00,  2.0000e+00,  2.4142e+00,  2.7321e+00,\n",
            "         2.9319e+00,  3.0000e+00,  2.9319e+00,  2.7321e+00,  2.4142e+00,\n",
            "         2.0000e+00,  1.5176e+00,  1.0000e+00,  4.8236e-01, -3.5763e-07,\n",
            "        -4.1421e-01, -7.3205e-01, -9.3185e-01, -1.0000e+00, -9.3185e-01,\n",
            "        -7.3205e-01, -4.1421e-01,  4.7684e-07,  4.8236e-01,  1.0000e+00],\n",
            "       grad_fn=<AddBackward0>)\n"
          ]
        }
      ]
    },
    {
      "cell_type": "code",
      "source": [
        "# finally, let's create a single-element output:\n",
        "\n",
        "# a -> b -> c -> d -> out\n",
        "out = d.sum()\n",
        "print(out)"
      ],
      "metadata": {
        "colab": {
          "base_uri": "https://localhost:8080/"
        },
        "id": "pfv2_aEMtRYW",
        "outputId": "8f9930ae-3fa3-4838-ec62-44be34d49075"
      },
      "execution_count": null,
      "outputs": [
        {
          "output_type": "stream",
          "name": "stdout",
          "text": [
            "tensor(25., grad_fn=<SumBackward0>)\n"
          ]
        }
      ]
    },
    {
      "cell_type": "code",
      "source": [
        "# walk the computations all the way back to its inputs using: grad_fn and next_functions\n",
        "\n",
        "print('d:')\n",
        "print(d.grad_fn) #d\n",
        "print(d.grad_fn.next_functions) #c\n",
        "print(d.grad_fn.next_functions[0][0].next_functions) #b\n",
        "print(d.grad_fn.next_functions[0][0].next_functions[0][0].next_functions) #a\n",
        "print(d.grad_fn.next_functions[0][0].next_functions[0][0].next_functions[0][0].next_functions) #NOL\n",
        "\n",
        "print('\\nc:')\n",
        "print(c.grad_fn)\n",
        "\n",
        "print('\\nb:')\n",
        "print(b.grad_fn)\n",
        "\n",
        "print('\\na:')\n",
        "print(a.grad_fn)"
      ],
      "metadata": {
        "colab": {
          "base_uri": "https://localhost:8080/"
        },
        "id": "3LHL-r5l7RVo",
        "outputId": "2ecc93ac-eaf7-4555-dac5-609e358755ea"
      },
      "execution_count": null,
      "outputs": [
        {
          "output_type": "stream",
          "name": "stdout",
          "text": [
            "d:\n",
            "<AddBackward0 object at 0x7d6e4c5ed180>\n",
            "((<MulBackward0 object at 0x7d6e4c5ee920>, 0), (None, 0))\n",
            "((<SinBackward0 object at 0x7d6e4c5ed180>, 0), (None, 0))\n",
            "((<AccumulateGrad object at 0x7d6d8531bbb0>, 0),)\n",
            "()\n",
            "\n",
            "c:\n",
            "<MulBackward0 object at 0x7d6d8531b040>\n",
            "\n",
            "b:\n",
            "<SinBackward0 object at 0x7d6d8531b040>\n",
            "\n",
            "a:\n",
            "None\n"
          ]
        }
      ]
    },
    {
      "cell_type": "code",
      "source": [
        "out.backward()\n",
        "\n",
        "print(a.grad) #calculates the derivative; #∂(out)/∂(a) = ∂(2*sin(a) + 1)/∂(a) = 2*cos(a)\n",
        "plt.plot(a.detach(), a.grad.detach())\n",
        "plt.plot(b.detach(), a.grad.detach())"
      ],
      "metadata": {
        "colab": {
          "base_uri": "https://localhost:8080/",
          "height": 534
        },
        "id": "0ycNkGkctRay",
        "outputId": "f107f601-d48e-45db-98a4-75dded43db93"
      },
      "execution_count": null,
      "outputs": [
        {
          "output_type": "stream",
          "name": "stdout",
          "text": [
            "tensor([ 2.0000e+00,  1.9319e+00,  1.7321e+00,  1.4142e+00,  1.0000e+00,\n",
            "         5.1764e-01, -8.7423e-08, -5.1764e-01, -1.0000e+00, -1.4142e+00,\n",
            "        -1.7321e+00, -1.9319e+00, -2.0000e+00, -1.9319e+00, -1.7321e+00,\n",
            "        -1.4142e+00, -1.0000e+00, -5.1764e-01,  2.3850e-08,  5.1764e-01,\n",
            "         1.0000e+00,  1.4142e+00,  1.7321e+00,  1.9319e+00,  2.0000e+00])\n"
          ]
        },
        {
          "output_type": "execute_result",
          "data": {
            "text/plain": [
              "[<matplotlib.lines.Line2D at 0x7d6d8534a260>]"
            ]
          },
          "metadata": {},
          "execution_count": 10
        },
        {
          "output_type": "display_data",
          "data": {
            "text/plain": [
              "<Figure size 640x480 with 1 Axes>"
            ],
            "image/png": "[encoded data removed]"
          },
          "metadata": {}
        }
      ]
    },
    {
      "cell_type": "code",
      "source": [
        "print(b)\n",
        "\n",
        "print(b.grad) #∂(out)/∂(b) = ∂(2*b + 1)/∂(b) = 2\n",
        "\n",
        "# Be aware that only leaf nodes of the computation have their gradients computed. If you tried, for example, print(c.grad) you’d get back None.\n",
        "# In this simple example, only the input is a leaf node, so only it has gradients computed."
      ],
      "metadata": {
        "colab": {
          "base_uri": "https://localhost:8080/"
        },
        "id": "txTKE6m0tRfo",
        "outputId": "6c4e45bf-4098-4906-8908-e52cc4c5b7d8"
      },
      "execution_count": null,
      "outputs": [
        {
          "output_type": "stream",
          "name": "stdout",
          "text": [
            "tensor([ 0.0000e+00,  2.5882e-01,  5.0000e-01,  7.0711e-01,  8.6603e-01,\n",
            "         9.6593e-01,  1.0000e+00,  9.6593e-01,  8.6603e-01,  7.0711e-01,\n",
            "         5.0000e-01,  2.5882e-01, -8.7423e-08, -2.5882e-01, -5.0000e-01,\n",
            "        -7.0711e-01, -8.6603e-01, -9.6593e-01, -1.0000e+00, -9.6593e-01,\n",
            "        -8.6603e-01, -7.0711e-01, -5.0000e-01, -2.5882e-01,  1.7485e-07],\n",
            "       grad_fn=<SinBackward0>)\n",
            "None\n"
          ]
        },
        {
          "output_type": "stream",
          "name": "stderr",
          "text": [
            "<ipython-input-11-08c7e9529ff2>:3: UserWarning: The .grad attribute of a Tensor that is not a leaf Tensor is being accessed. Its .grad attribute won't be populated during autograd.backward(). If you indeed want the .grad field to be populated for a non-leaf Tensor, use .retain_grad() on the non-leaf Tensor. If you access the non-leaf Tensor by mistake, make sure you access the leaf Tensor instead. See github.com/pytorch/pytorch/pull/30531 for more informations. (Triggered internally at aten/src/ATen/core/TensorBody.h:489.)\n",
            "  print(b.grad) #∂(out)/∂(b) = ∂(2*b + 1)/∂(b) = 2\n"
          ]
        }
      ]
    },
    {
      "cell_type": "markdown",
      "source": [
        "# 2. Autograd in Training:\n",
        "\n",
        "We’ve had a brief look at how autograd works, but how does it look when it’s used for its intended purpose? Let’s define a small model and examine how it changes after a single training batch. First, define a few constants, our model, and some stand-ins for inputs and outputs:"
      ],
      "metadata": {
        "id": "bSdjFacpUB-8"
      }
    },
    {
      "cell_type": "code",
      "source": [
        "DIM_IN = 1000\n",
        "HIDDEN_SIZE = 100\n",
        "DIM_OUT = 10\n",
        "BATCH_SIZE = 16\n",
        "\n",
        "\n",
        "class TinyModel(nn.Module):\n",
        "  def __init__(self):\n",
        "    super(TinyModel, self).__init__()\n",
        "\n",
        "    self.layer1 = nn.Linear(DIM_IN, HIDDEN_SIZE)\n",
        "    self.relu = nn.ReLU()\n",
        "    self.layer2 = nn.Linear(HIDDEN_SIZE, DIM_OUT)\n",
        "\n",
        "  def forward(self, x):\n",
        "      x = self.layer1(x)\n",
        "      x = self.relu(x)\n",
        "      x = self.layer2(x)\n",
        "      return x\n",
        "\n",
        "some_input = torch.rand(BATCH_SIZE, DIM_IN, requires_grad=False)\n",
        "ideal_output = torch.rand(BATCH_SIZE, DIM_OUT, requires_grad=False)\n",
        "\n",
        "model = TinyModel()"
      ],
      "metadata": {
        "id": "fj0kybk0E4YV"
      },
      "execution_count": null,
      "outputs": []
    },
    {
      "cell_type": "code",
      "source": [
        "print(model.layer2.weight[0][0:10])\n",
        "print(model.layer2.weight.shape)\n",
        "# print(model.layer2.weight.grad[0][0:10]) #because no gradients have been computed yet."
      ],
      "metadata": {
        "colab": {
          "base_uri": "https://localhost:8080/"
        },
        "id": "vqUbG3Tt6_QP",
        "outputId": "97128699-9ddc-452a-ea8a-5322836fa6e3"
      },
      "execution_count": null,
      "outputs": [
        {
          "output_type": "stream",
          "name": "stdout",
          "text": [
            "tensor([ 0.0338,  0.0380, -0.0880,  0.0258, -0.0884, -0.0960,  0.0737, -0.0011,\n",
            "         0.0440,  0.0249], grad_fn=<SliceBackward0>)\n",
            "torch.Size([10, 100])\n"
          ]
        }
      ]
    },
    {
      "cell_type": "code",
      "source": [
        "optimizer = torch.optim.SGD(model.parameters(), lr=0.001)\n",
        "predictions = model(some_input)\n",
        "loss = (ideal_output - predictions).pow(2).sum()\n",
        "print(loss)"
      ],
      "metadata": {
        "colab": {
          "base_uri": "https://localhost:8080/"
        },
        "id": "n3omiLVKP5P9",
        "outputId": "aa2ffb62-87e1-4709-a205-5d20a142cb56"
      },
      "execution_count": null,
      "outputs": [
        {
          "output_type": "stream",
          "name": "stdout",
          "text": [
            "tensor(66.5679, grad_fn=<SumBackward0>)\n"
          ]
        }
      ]
    },
    {
      "cell_type": "code",
      "source": [
        "loss.backward()\n",
        "\n",
        "print(model.layer2.weight[0][0:10])\n",
        "print(model.layer2.weight.shape)\n",
        "print(model.layer2.weight.grad[0][0:10])\n",
        "\n",
        "# We can see that the gradients have been computed for each learning weight, but the weights remain unchanged, because we haven’t run the optimizer yet.\n",
        "# The optimizer is responsible for updating model weights based on the computed gradients."
      ],
      "metadata": {
        "colab": {
          "base_uri": "https://localhost:8080/"
        },
        "id": "HqqjpC5YJmV4",
        "outputId": "7dd9ac26-c7da-4261-88d4-2716e7dc2232"
      },
      "execution_count": null,
      "outputs": [
        {
          "output_type": "stream",
          "name": "stdout",
          "text": [
            "tensor([ 0.0338,  0.0380, -0.0880,  0.0258, -0.0884, -0.0960,  0.0737, -0.0011,\n",
            "         0.0440,  0.0249], grad_fn=<SliceBackward0>)\n",
            "torch.Size([10, 100])\n",
            "tensor([-2.0770, -4.3460, -0.2600,  0.0000, -2.9335, -0.7889, -0.4474, -0.4449,\n",
            "         0.0000, -2.7950])\n"
          ]
        }
      ]
    },
    {
      "cell_type": "code",
      "source": [
        "optimizer.step()\n",
        "\n",
        "print(model.layer2.weight[0][0:10])\n",
        "print(model.layer2.weight.shape)\n",
        "print(model.layer2.weight.grad[0][0:10])\n",
        "\n",
        "# One important thing about the process: After calling optimizer.step(), you need to call optimizer.zero_grad(),\n",
        "# or else every time you run loss.backward(), the gradients on the learning weights will accumulate:"
      ],
      "metadata": {
        "colab": {
          "base_uri": "https://localhost:8080/"
        },
        "id": "q8uXrM7hJEh1",
        "outputId": "c988fa54-6ab5-4d43-cb69-29d69a97cf78"
      },
      "execution_count": null,
      "outputs": [
        {
          "output_type": "stream",
          "name": "stdout",
          "text": [
            "tensor([ 0.0359,  0.0423, -0.0877,  0.0258, -0.0855, -0.0952,  0.0741, -0.0006,\n",
            "         0.0440,  0.0277], grad_fn=<SliceBackward0>)\n",
            "torch.Size([10, 100])\n",
            "tensor([-2.0770, -4.3460, -0.2600,  0.0000, -2.9335, -0.7889, -0.4474, -0.4449,\n",
            "         0.0000, -2.7950])\n"
          ]
        }
      ]
    },
    {
      "cell_type": "code",
      "source": [
        "for i in range(0, 20):\n",
        "  predictions = model(some_input)\n",
        "  loss = (ideal_output - predictions).pow(2).sum()\n",
        "  loss.backward()\n",
        "\n",
        "print(model.layer2.weight.grad[0][0:10])"
      ],
      "metadata": {
        "id": "yiQ-aNZ5JEm1",
        "colab": {
          "base_uri": "https://localhost:8080/"
        },
        "outputId": "400252e6-9bf8-4aec-c4f2-6912a376463f"
      },
      "execution_count": null,
      "outputs": [
        {
          "output_type": "stream",
          "name": "stdout",
          "text": [
            "tensor([-66.7429,  -4.3460,  -0.2600,   0.0000, -34.6724,  -0.7828,  -7.1061,\n",
            "         -3.2067,   0.0000, -30.6770])\n"
          ]
        }
      ]
    },
    {
      "cell_type": "code",
      "source": [
        "optimizer.zero_grad(set_to_none=False)\n",
        "\n",
        "print(model.layer2.weight.grad[0][0:10])\n",
        "\n",
        "# After running the cell above, you should see that after running loss.backward() multiple times, the magnitudes of most of the gradients will be much larger.\n",
        "# Failing to zero the gradients before running your next training batch will cause the gradients to blow up in this manner, causing incorrect and unpredictable learning results."
      ],
      "metadata": {
        "id": "OytF0NCpJEti",
        "colab": {
          "base_uri": "https://localhost:8080/"
        },
        "outputId": "7d411d6d-991e-4109-a7ed-9fa53ce710d2"
      },
      "execution_count": null,
      "outputs": [
        {
          "output_type": "stream",
          "name": "stdout",
          "text": [
            "tensor([0., 0., 0., 0., 0., 0., 0., 0., 0., 0.])\n"
          ]
        }
      ]
    },
    {
      "cell_type": "markdown",
      "source": [
        "# 3. Turning Autograd on and off:"
      ],
      "metadata": {
        "id": "M7CVziCK3eKr"
      }
    },
    {
      "cell_type": "code",
      "source": [
        "# method 1: The simplest is to change the requires_grad flag on a tensor directly.\n",
        "\n",
        "a = torch.ones(2, 3, requires_grad=True)\n",
        "print('a: \\n', a)\n",
        "\n",
        "b = a*2\n",
        "print('b: \\n', b)\n",
        "\n",
        "a.requires_grad = False\n",
        "b = a*2\n",
        "print('b: \\n', b)"
      ],
      "metadata": {
        "id": "E4mrnqtGzvXW",
        "colab": {
          "base_uri": "https://localhost:8080/"
        },
        "outputId": "61f704a3-7824-4e33-ed9d-b45e0fdeac09"
      },
      "execution_count": null,
      "outputs": [
        {
          "output_type": "stream",
          "name": "stdout",
          "text": [
            "a: \n",
            " tensor([[1., 1., 1.],\n",
            "        [1., 1., 1.]], requires_grad=True)\n",
            "b: \n",
            " tensor([[2., 2., 2.],\n",
            "        [2., 2., 2.]], grad_fn=<MulBackward0>)\n",
            "b: \n",
            " tensor([[2., 2., 2.],\n",
            "        [2., 2., 2.]])\n"
          ]
        }
      ]
    },
    {
      "cell_type": "code",
      "source": [
        "# method 2: If you only need autograd turned off temporarily, a better way is to use the torch.no_grad()\n",
        "\n",
        "a = torch.ones(2, 3, requires_grad=True) * 2\n",
        "b = torch.ones(2, 3, requires_grad=True) * 3\n",
        "\n",
        "c1 = a+b\n",
        "print(c1)\n",
        "\n",
        "with torch.no_grad():\n",
        "  c2 = a+b\n",
        "print(c2)\n",
        "\n",
        "c3 = c1+c2\n",
        "print(c3)"
      ],
      "metadata": {
        "colab": {
          "base_uri": "https://localhost:8080/"
        },
        "id": "us1L1XD11G6g",
        "outputId": "aef781ed-7bd5-467e-cb0a-8c318e840b33"
      },
      "execution_count": null,
      "outputs": [
        {
          "output_type": "stream",
          "name": "stdout",
          "text": [
            "tensor([[5., 5., 5.],\n",
            "        [5., 5., 5.]], grad_fn=<AddBackward0>)\n",
            "tensor([[5., 5., 5.],\n",
            "        [5., 5., 5.]])\n",
            "tensor([[10., 10., 10.],\n",
            "        [10., 10., 10.]], grad_fn=<AddBackward0>)\n"
          ]
        }
      ]
    },
    {
      "cell_type": "code",
      "source": [
        "# torch.no_grad() can also be used as a funcion or method decorator.\n",
        "# The opposite function torch.enable_grad() can also be used as a funcion or method decorator too.\n",
        "def add_tensors(a, b):\n",
        "  return a+b\n",
        "\n",
        "@torch.no_grad()\n",
        "def add_tensors_2(a, b):\n",
        "  return a+b\n",
        "\n",
        "a = torch.ones(2, 3, requires_grad=True) * 2\n",
        "b = torch.ones(2, 3, requires_grad=True) * 3\n",
        "\n",
        "c1 = add_tensors(a, b)\n",
        "print(c1)\n",
        "\n",
        "c2 = add_tensors_2(a, b)\n",
        "print(c2)"
      ],
      "metadata": {
        "colab": {
          "base_uri": "https://localhost:8080/"
        },
        "id": "0nqiC5AD4iFw",
        "outputId": "85fdf6d7-fd92-4eae-d9cb-372b00d8333d"
      },
      "execution_count": null,
      "outputs": [
        {
          "output_type": "stream",
          "name": "stdout",
          "text": [
            "tensor([[5., 5., 5.],\n",
            "        [5., 5., 5.]], grad_fn=<AddBackward0>)\n",
            "tensor([[5., 5., 5.],\n",
            "        [5., 5., 5.]])\n"
          ]
        }
      ]
    },
    {
      "cell_type": "code",
      "source": [
        "#method 3: using detach(): it creates a copy of the tensor that is detached from the computation history\n",
        "\n",
        "x = torch.rand(5, requires_grad=True)\n",
        "y = x.detach()\n",
        "\n",
        "print(x)\n",
        "print(y)\n",
        "\n",
        "# We used .detach() we wanted to graph some of our tensors. This is because matplotlib expects a NumPy array as input, and the implicit conversion from a\n",
        "# PyTorch tensor to a NumPy array is not enabled for tensors with requires_grad=True. Making a detached copy lets us move forward."
      ],
      "metadata": {
        "colab": {
          "base_uri": "https://localhost:8080/"
        },
        "id": "ieMuwONK4iIm",
        "outputId": "87658538-2c52-43cf-d990-cfe4d8940ae3"
      },
      "execution_count": null,
      "outputs": [
        {
          "output_type": "stream",
          "name": "stdout",
          "text": [
            "tensor([0.2795, 0.8255, 0.7172, 0.1798, 0.6626], requires_grad=True)\n",
            "tensor([0.2795, 0.8255, 0.7172, 0.1798, 0.6626])\n"
          ]
        }
      ]
    },
    {
      "cell_type": "markdown",
      "source": [
        "# 4. Autograd Profiler:"
      ],
      "metadata": {
        "id": "yhvisx0bWprf"
      }
    },
    {
      "cell_type": "code",
      "source": [
        "# Autograd tracks every step of your computation in detail. Such a computation history, combined with timing information,\n",
        "# would make a handy profiler - and autograd has that feature baked in. Here’s a quick example usage:\n",
        "\n",
        "device = torch.device('cpu')\n",
        "run_on_gpu = False\n",
        "if torch.cuda.is_available():\n",
        "  device = torch.device('cuda')\n",
        "  run_on_gpu = True\n",
        "\n",
        "x = torch.randn(2, 3, requires_grad=True)\n",
        "y = torch.randn(2, 3, requires_grad=True)\n",
        "z = torch.randn(2, 3, requires_grad=True)\n",
        "\n",
        "with torch.autograd.profiler.profile(use_cuda=run_on_gpu) as prf:\n",
        "  for _ in range(1000):\n",
        "    z = (z/x)*y\n",
        "\n",
        "print(prf.key_averages().table(sort_by='self_cpu_time_total'))\n",
        "\n",
        "# The profiler can also label individual sub-blocks of code, break out the data by input tensor shape, and export data as a Chrome tracing tools file."
      ],
      "metadata": {
        "colab": {
          "base_uri": "https://localhost:8080/"
        },
        "id": "s-bSNnhp4iLk",
        "outputId": "e3909267-0bae-4b94-ccb0-065457043f97"
      },
      "execution_count": null,
      "outputs": [
        {
          "output_type": "stream",
          "name": "stderr",
          "text": [
            "<ipython-input-27-3dbdf259df72>:14: FutureWarning: The attribute `use_cuda` will be deprecated soon, please use ``use_device = 'cuda'`` instead.\n",
            "  with torch.autograd.profiler.profile(use_cuda=run_on_gpu) as prf:\n"
          ]
        },
        {
          "output_type": "stream",
          "name": "stdout",
          "text": [
            "------------------------------------  ------------  ------------  ------------  ------------  ------------  ------------  ------------  ------------  ------------  ------------  \n",
            "                                Name    Self CPU %      Self CPU   CPU total %     CPU total  CPU time avg     Self CUDA   Self CUDA %    CUDA total  CUDA time avg    # of Calls  \n",
            "------------------------------------  ------------  ------------  ------------  ------------  ------------  ------------  ------------  ------------  ------------  ------------  \n",
            "                     cudaEventRecord        39.45%      11.193ms        39.45%      11.193ms       2.798us       0.000us         0.00%       0.000us       0.000us          4000  \n",
            "                           aten::mul        32.27%       9.155ms        32.27%       9.155ms       9.155us      14.842ms        50.50%      14.842ms      14.842us          1000  \n",
            "                           aten::div        27.18%       7.712ms        27.18%       7.712ms       7.712us      14.550ms        49.50%      14.550ms      14.550us          1000  \n",
            "          cudaGetDeviceProperties_v2         0.59%     166.760us         0.59%     166.760us     166.760us       0.000us         0.00%       0.000us       0.000us             1  \n",
            "    cudaDeviceGetStreamPriorityRange         0.26%      73.387us         0.26%      73.387us      73.387us       0.000us         0.00%       0.000us       0.000us             1  \n",
            "               cudaStreamIsCapturing         0.18%      51.874us         0.18%      51.874us      17.291us       0.000us         0.00%       0.000us       0.000us             3  \n",
            "               cudaDeviceSynchronize         0.06%      18.368us         0.06%      18.368us      18.368us       0.000us         0.00%       0.000us       0.000us             1  \n",
            "                  cudaGetDeviceCount         0.00%       0.832us         0.00%       0.832us       0.416us       0.000us         0.00%       0.000us       0.000us             2  \n",
            "------------------------------------  ------------  ------------  ------------  ------------  ------------  ------------  ------------  ------------  ------------  ------------  \n",
            "Self CPU time total: 28.371ms\n",
            "Self CUDA time total: 29.392ms\n",
            "\n"
          ]
        }
      ]
    },
    {
      "cell_type": "markdown",
      "source": [
        "# 5. The high-level API:\n"
      ],
      "metadata": {
        "id": "_hUGo_tKaRUF"
      }
    },
    {
      "cell_type": "code",
      "source": [
        "# There is an API on autograd that gives you direct access to important differential matrix and vector operations. In particular,\n",
        "# it allows you to calculate the Jacobian and the Hessian matrices of a particular function for particular inputs. (The Hessian is like the Jacobian,\n",
        "# but expresses all partial second derivatives.) It also provides methods for taking vector products with these matrices.\n",
        "\n",
        "# Let’s take the Jacobian of a simple function, evaluated for a 2 single-element inputs:\n",
        "\n",
        "def exp_adder(x, y):\n",
        "  return 2*x.exp() + 3*y # = 2e^x + 3y\n",
        "\n",
        "inputs = (torch.rand(1), torch.rand(1))\n",
        "print('inputs:\\n', inputs)\n",
        "\n",
        "print('\\njacoubian:')\n",
        "torch.autograd.functional.jacobian(exp_adder, inputs) # = d(2e^x, 3y) = (2e^x, 3)"
      ],
      "metadata": {
        "colab": {
          "base_uri": "https://localhost:8080/"
        },
        "id": "Oo6PvsjA1G9F",
        "outputId": "d80577f7-1846-499a-d9c4-d80efdba7e26"
      },
      "execution_count": null,
      "outputs": [
        {
          "output_type": "stream",
          "name": "stdout",
          "text": [
            "inputs:\n",
            " (tensor([0.5805]), tensor([0.9700]))\n",
            "\n",
            "jacoubian:\n"
          ]
        },
        {
          "output_type": "execute_result",
          "data": {
            "text/plain": [
              "(tensor([[3.5739]]), tensor([[3.]]))"
            ]
          },
          "metadata": {},
          "execution_count": 36
        }
      ]
    },
    {
      "cell_type": "code",
      "source": [],
      "metadata": {
        "id": "7hP37qFNcRw_"
      },
      "execution_count": null,
      "outputs": []
    },
    {
      "cell_type": "code",
      "source": [
        "# we can, of course, do this with higher-order tensors: -> we should use hesian since it's for second derivatives. jacoubian is for first derivatives.\n",
        "\n",
        "#.hesian()\n",
        "# .jvp() or .vjp()"
      ],
      "metadata": {
        "id": "CC4kOKzL1G_z"
      },
      "execution_count": null,
      "outputs": []
    },
    {
      "cell_type": "code",
      "source": [],
      "metadata": {
        "id": "uXcY0HsL1HCp"
      },
      "execution_count": null,
      "outputs": []
    }
  ]
}